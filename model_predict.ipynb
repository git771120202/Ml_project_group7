{
 "cells": [
  {
   "cell_type": "code",
   "execution_count": 1,
   "metadata": {},
   "outputs": [
    {
     "name": "stdout",
     "output_type": "stream",
     "text": [
      "      ST0  ST14  ST15  ST1_1  ST1_2  ST2_3  ST2_4  ST2_5  ST2_6  ST3  ...  \\\n",
      "0       1  48.0     0      2      4      4      3      4      0    1  ...   \n",
      "1       1  45.0     1      2      4      1      1      3      3    2  ...   \n",
      "2       1  48.0     4      1      2      0      8      1      2    2  ...   \n",
      "3       0  44.0     2      2      5      4      1      3      0    2  ...   \n",
      "4       0  50.0     0      2      3      0      4      3      4    2  ...   \n",
      "...   ...   ...   ...    ...    ...    ...    ...    ...    ...  ...  ...   \n",
      "1927    1  55.0     4      2      3      1      8      3      4    1  ...   \n",
      "1928    1  35.0     4      2      3      3      8      4      5    0  ...   \n",
      "1929    1  62.0     0      2      2      1      3      3      1    2  ...   \n",
      "1930    1  43.0     0      2      3      2      3      4      8    3  ...   \n",
      "1931    1  50.0     4      3      3      3      0      8      3    0  ...   \n",
      "\n",
      "      DB7_5  DB7_6  DB7_7  DB7_8  KOR_S  ENG_S  MATH_S  KOR_HIGH  ENG_HIGH  \\\n",
      "0       3.0   49.0    3.0   63.0   50.0   53.0    56.0         0         0   \n",
      "1       3.0   49.0    3.0   63.0   92.5   96.5    89.0         1         1   \n",
      "2       3.0   49.0    3.0   63.0   90.0   77.0    60.0         1         1   \n",
      "3       3.0   49.0    3.0   63.0   65.0   96.0   100.0         0         1   \n",
      "4       3.0   49.0    3.0   63.0   77.5   81.5    90.0         1         1   \n",
      "...     ...    ...    ...    ...    ...    ...     ...       ...       ...   \n",
      "1927    0.0    0.0    4.0  187.0   74.0   67.5    78.0         1         1   \n",
      "1928    0.0    0.0    4.0  187.0   70.5   71.0    78.0         1         1   \n",
      "1929    0.0    0.0    4.0  187.0   67.5   85.5   100.0         1         1   \n",
      "1930    0.0    0.0    4.0  187.0   70.5   25.0    15.0         1         0   \n",
      "1931    0.0    0.0    4.0  187.0   25.5   17.5    18.0         0         0   \n",
      "\n",
      "      MATH_HIGH  \n",
      "0             0  \n",
      "1             1  \n",
      "2             0  \n",
      "3             1  \n",
      "4             1  \n",
      "...         ...  \n",
      "1927          1  \n",
      "1928          1  \n",
      "1929          1  \n",
      "1930          0  \n",
      "1931          0  \n",
      "\n",
      "[1932 rows x 648 columns]\n"
     ]
    }
   ],
   "source": [
    "import pandas as pd\n",
    "\n",
    "\n",
    "csv_file = 'dataset\\preprocessed\\data_grade1.csv'  \n",
    "df = pd.read_csv(csv_file)\n",
    "df = df.drop(columns=['STUID'])\n",
    "print(df)\n",
    "\n",
    "csv_file2 = 'dataset\\preprocessed\\data_grade2.csv'  \n",
    "df2 = pd.read_csv(csv_file2)\n",
    "df2 = df2.drop(columns=['STUID'])\n",
    "\n",
    "csv_file3 = 'dataset\\preprocessed\\data_grade3.csv'  \n",
    "df3 = pd.read_csv(csv_file3)\n",
    "df3 = df3.drop(columns=['STUID'])\n"
   ]
  },
  {
   "cell_type": "code",
   "execution_count": 7,
   "metadata": {},
   "outputs": [],
   "source": [
    "from sklearn.model_selection import train_test_split\n",
    "from sklearn.metrics import accuracy_score, roc_auc_score, cohen_kappa_score, confusion_matrix\n",
    "\n",
    "def model_predict(model, df, subject):\n",
    "    \n",
    "    # 과목별 학업성취도 (0,1) 변수를 예측 변수 y로 지정 \n",
    "    y = df[subject]\n",
    "    # 과목별 원점수 및 학업성취도(0,1) 변수 제거 후 나머지 변수 모두 예측을 위한 변수 x값으로 지정\n",
    "    X = df.drop(columns=['KOR_HIGH', 'ENG_HIGH', 'MATH_HIGH', 'KOR_S', 'ENG_S', 'MATH_S'])\n",
    "\n",
    "    X_train, X_test, y_train, y_test = train_test_split(X, y, test_size=0.2, random_state=42)\n",
    "\n",
    "    model.fit(X_train, y_train)\n",
    "\n",
    "    y_pred = model.predict(X_test)\n",
    "    y_pred_proba = model.predict_proba(X_test)[:, 1]  \n",
    "\n",
    "    tn, fp, fn, tp = confusion_matrix(y_test, y_pred).ravel()\n",
    "\n",
    "    accuracy = accuracy_score(y_test, y_pred)\n",
    "    sensitivity = tp / (tp + fn)  \n",
    "    specificity = tn / (tn + fp)  \n",
    "    kappa = cohen_kappa_score(y_test, y_pred)\n",
    "    auc = roc_auc_score(y_test, y_pred_proba)\n",
    "\n",
    "    return accuracy, sensitivity, specificity, kappa, auc"
   ]
  },
  {
   "cell_type": "code",
   "execution_count": 30,
   "metadata": {},
   "outputs": [
    {
     "name": "stdout",
     "output_type": "stream",
     "text": [
      "Subject: KOR_HIGH\n",
      "Accuracy: 0.6563\n",
      "Sensitvity: 0.7418\n",
      "Specificity: 0.5517\n",
      "Kappa: 0.2971\n",
      "AUC: 0.7068 \n",
      "\n",
      "Subject: ENG_HIGH\n",
      "Accuracy: 0.7829\n",
      "Sensitvity: 0.7887\n",
      "Specificity: 0.7772\n",
      "Kappa: 0.5659\n",
      "AUC: 0.8563 \n",
      "\n",
      "Subject: MATH_HIGH\n",
      "Accuracy: 0.8165\n",
      "Sensitvity: 0.8597\n",
      "Specificity: 0.7590\n",
      "Kappa: 0.6230\n",
      "AUC: 0.8836 \n",
      "\n",
      "Subject: KOR_HIGH\n",
      "Accuracy: 0.7062\n",
      "Sensitvity: 0.7860\n",
      "Specificity: 0.6071\n",
      "Kappa: 0.3981\n",
      "AUC: 0.7638 \n",
      "\n",
      "Subject: ENG_HIGH\n",
      "Accuracy: 0.8337\n",
      "Sensitvity: 0.8093\n",
      "Specificity: 0.8621\n",
      "Kappa: 0.6675\n",
      "AUC: 0.8974 \n",
      "\n",
      "Subject: MATH_HIGH\n",
      "Accuracy: 0.8109\n",
      "Sensitvity: 0.7798\n",
      "Specificity: 0.8416\n",
      "Kappa: 0.6217\n",
      "AUC: 0.8749 \n",
      "\n",
      "Subject: KOR_HIGH\n",
      "Accuracy: 0.7173\n",
      "Sensitvity: 0.7736\n",
      "Specificity: 0.6603\n",
      "Kappa: 0.4342\n",
      "AUC: 0.8036 \n",
      "\n",
      "Subject: ENG_HIGH\n",
      "Accuracy: 0.8195\n",
      "Sensitvity: 0.7731\n",
      "Specificity: 0.8683\n",
      "Kappa: 0.6397\n",
      "AUC: 0.8966 \n",
      "\n",
      "Subject: MATH_HIGH\n",
      "Accuracy: 0.8100\n",
      "Sensitvity: 0.6935\n",
      "Specificity: 0.9144\n",
      "Kappa: 0.6146\n",
      "AUC: 0.8753 \n",
      "\n",
      "avg_Accuracy: 0.7726\n",
      "avg_Sensitvity: 0.7784\n",
      "avg_Specificity: 0.7602\n",
      "avg_Kappa: 0.5402\n",
      "avg_AUC: 0.8398 \n",
      "\n"
     ]
    }
   ],
   "source": [
    "from sklearn.ensemble import RandomForestClassifier, AdaBoostClassifier\n",
    "from sklearn.svm import SVC\n",
    "from sklearn.tree import DecisionTreeClassifier\n",
    "from sklearn.neighbors import KNeighborsClassifier\n",
    "from sklearn.neural_network import MLPClassifier\n",
    "from xgboost import XGBClassifier\n",
    "\n",
    "svm_model = SVC(probability=True, random_state=42)\n",
    "dc_model = DecisionTreeClassifier(random_state=42)\n",
    "nn_model = MLPClassifier(random_state=42)\n",
    "knn_model = KNeighborsClassifier()\n",
    "rf_model = RandomForestClassifier(random_state=42)\n",
    "ada_model = AdaBoostClassifier(random_state=42)\n",
    "xgb_model = XGBClassifier(random_state= 42)\n",
    "grade_list = [df, df2, df3]\n",
    "subject_list = ['KOR_HIGH', 'ENG_HIGH', 'MATH_HIGH']\n",
    "\n",
    "acc_sum = 0\n",
    "sen_sum = 0\n",
    "spe_sum = 0\n",
    "kap_sum = 0\n",
    "auc_sum = 0\n",
    "\n",
    "# 1,2,3 학년별로\n",
    "for grade in grade_list:\n",
    "    # 과목별로\n",
    "    for subject in subject_list:\n",
    "        # 5가지 점수 계산, model_predict()에 첫번째 변수에 모델명 수정시 해당 모델로 계산 진행됨\n",
    "        accuracy, sensitivity, specificity, kappa, auc = model_predict(rf_model, grade, subject)\n",
    "        print(f\"Subject: {subject}\")\n",
    "        print(f\"Accuracy: {accuracy:.4f}\")\n",
    "        print(f\"Sensitvity: {sensitivity:.4f}\")\n",
    "        print(f\"Specificity: {specificity:.4f}\")\n",
    "        print(f\"Kappa: {kappa:.4f}\")\n",
    "        print(f\"AUC: {auc:.4f} \\n\")\n",
    "        acc_sum += accuracy\n",
    "        sen_sum += sensitivity\n",
    "        spe_sum += specificity\n",
    "        kap_sum += kappa\n",
    "        auc_sum += auc\n",
    "\n",
    "print(f\"avg_Accuracy: {acc_sum/9:.4f}\")\n",
    "print(f\"avg_Sensitvity: {sen_sum/9:.4f}\")\n",
    "print(f\"avg_Specificity: {spe_sum/9:.4f}\")\n",
    "print(f\"avg_Kappa: {kap_sum/9:.4f}\")\n",
    "print(f\"avg_AUC: {auc_sum/9:.4f} \\n\")"
   ]
  },
  {
   "cell_type": "markdown",
   "metadata": {},
   "source": [
    "Feature selection"
   ]
  },
  {
   "cell_type": "code",
   "execution_count": null,
   "metadata": {},
   "outputs": [],
   "source": [
    "from sklearn.ensemble import RandomForestClassifier\n",
    "from sklearn.metrics import accuracy_score\n",
    "from tqdm import tqdm\n",
    "\n",
    "\n",
    "def feature_importance(df, subject, least, most):\n",
    "\n",
    "    y = df[subject]\n",
    "    X = df.drop(columns=['KOR_HIGH', 'ENG_HIGH', 'MATH_HIGH', 'KOR_S', 'ENG_S', 'MATH_S'])\n",
    "\n",
    "    X_train, X_test, y_train, y_test = train_test_split(X, y, test_size=0.2, random_state=42)\n",
    "\n",
    "    model = RandomForestClassifier(random_state=42)\n",
    "    model.fit(X_train,y_train)\n",
    "    y_pred = model.predict(X_test)\n",
    "    full_score = accuracy_score(y_test, y_pred)\n",
    "\n",
    "\n",
    "    best = 0\n",
    "    importances = model.feature_importances_\n",
    "    for i in range (least, most):\n",
    "        top_features = np.argsort(importances)[-i:]\n",
    "        # print(top_features)\n",
    "\n",
    "        X_train_selected = X_train.iloc[:, top_features]\n",
    "        X_test_selected = X_test.iloc[:, top_features]\n",
    "\n",
    "        model_selected = RandomForestClassifier(random_state=42)\n",
    "        model_selected.fit(X_train_selected, y_train)\n",
    "        y_pred_selected = model_selected.predict(X_test_selected)\n",
    "        selected_score = accuracy_score(y_test, y_pred_selected)\n",
    "\n",
    "        # print(\"Full features score:\", full_score)\n",
    "        # print(\"Selected features score:\", selected_score)\n",
    "        score = full_score - selected_score\n",
    "        # print(score)\n",
    "\n",
    "        if (score < best):\n",
    "            best = score\n",
    "            best_i = i\n",
    "            best_features = X_train.columns[top_features]\n",
    "            \n",
    "    # print(best, best_i)\n",
    "    \n",
    "    return best, best_i, best_features"
   ]
  },
  {
   "cell_type": "code",
   "execution_count": 27,
   "metadata": {},
   "outputs": [
    {
     "name": "stdout",
     "output_type": "stream",
     "text": [
      "(-0.06201550387596899, 19, Index(['ST11_5', 'DB2_3W', 'DB7_1', 'DB7_3', 'ST59_6', 'ST14', 'PA20',\n",
      "       'ST12_2_1', 'ST2_4', 'PA2', 'ST35K_3', 'ST35E_3', 'ST32M_3', 'ST53',\n",
      "       'ST12_1_1', 'ST0', 'ST30_2', 'ST30_3', 'ST30_1'],\n",
      "      dtype='object'))\n",
      "(-0.03875968992248069, 164, Index(['ST23_19', 'ST37_8', 'ST29_1', 'ST36M_3', 'ST28_1', 'ST13C_3', 'ST27_6',\n",
      "       'ST32M_5', 'ST36K_2', 'ST36E_2',\n",
      "       ...\n",
      "       'ST32E_1', 'ST31_2', 'ST35E_1', 'PA5', 'ST35E_2', 'ST53', 'PA2', 'PA6',\n",
      "       'ST30_3', 'ST30_2'],\n",
      "      dtype='object', length=164))\n",
      "(-0.03100775193798455, 289, Index(['TR16_7', 'ST38_11', 'ST18_1', 'ST34M_8', 'ST11_9', 'TR28_9', 'ST34M_5',\n",
      "       'ST13A_6', 'TR26_1', 'ST34E_1',\n",
      "       ...\n",
      "       'ST35E_2', 'ST53', 'ST39_2', 'ST31_3', 'PA2', 'ST39_3', 'PA5', 'ST30_2',\n",
      "       'PA6', 'ST30_3'],\n",
      "      dtype='object', length=289))\n",
      "(-0.031890660592255204, 613, Index(['PR14_14', 'ST39_4', 'ST10_1', 'ST12_1', 'TR30_1', 'ST56A_9', 'PR10',\n",
      "       'PA1A_4', 'TR16_5', 'PA10',\n",
      "       ...\n",
      "       'ST12_2_1', 'ST15', 'ST11_1', 'ST14', 'ST30_1', 'ST30_2', 'ST0',\n",
      "       'ST_PREV_MATH_S', 'ST_PREV_ENG_S', 'ST_PREV_KOR_S'],\n",
      "      dtype='object', length=613))\n",
      "(-0.018223234624145768, 41, Index(['ST36E_4', 'ST59_6', 'DB2_1W', 'DB2_1M', 'DB7_1', 'ST2_3', 'ST35K_5',\n",
      "       'DB2_3M', 'ST32E_1', 'ST39_2', 'DB7_2', 'ST11_5', 'ST32E_2', 'PA20',\n",
      "       'DB7_8', 'ST32M_3', 'ST30_1', 'DB2_2W', 'DB2_2M', 'ST25_6', 'DB7_4',\n",
      "       'DB7_3', 'P부학력', 'ST31_3', 'ST53', 'ST35E_5', 'ST32E_3', 'ST35E_2',\n",
      "       'ST35E_1', 'P모학력', 'ST35E_4', 'PA2', 'ST35E_3', 'PA5', 'ST31_2',\n",
      "       'ST30_3', 'PA6', 'ST30_2', 'ST_PREV_KOR_S', 'ST_PREV_MATH_S',\n",
      "       'ST_PREV_ENG_S'],\n",
      "      dtype='object'))\n",
      "(-0.04555808656036453, 17, Index(['ST30_1', 'DB7_2', 'ST21_1', 'ST53', 'DB7_4', 'DB7_3', 'ST31_3',\n",
      "       'ST35M_5', 'PA2', 'ST39_3', 'ST30_2', 'PA5', 'PA6', 'ST_PREV_KOR_S',\n",
      "       'ST30_3', 'ST_PREV_ENG_S', 'ST_PREV_MATH_S'],\n",
      "      dtype='object'))\n",
      "(-0.04275534441805229, 12, Index(['ST0', 'DB2_1W', 'ST11_5', 'DB2_2M', 'ST14', 'ST24_16', 'ST30_2',\n",
      "       'ST30_1', 'ST30_3', 'ST_PREV_MATH_S', 'ST_PREV_ENG_S', 'ST_PREV_KOR_S'],\n",
      "      dtype='object'))\n",
      "(-0.02375296912114022, 154, Index(['ST13A_1', 'ST11_7', 'ST24_14', 'ST34E_15', 'PA17_2', 'ST44_6',\n",
      "       'ST38_9', 'ST11_10', 'ST12_1_1', 'TR33_1_2',\n",
      "       ...\n",
      "       'DB2_1M', 'ST25_6', 'PA5', 'ST31_2', 'ST30_3', 'PA6', 'ST_PREV_KOR_S',\n",
      "       'ST30_2', 'ST_PREV_MATH_S', 'ST_PREV_ENG_S'],\n",
      "      dtype='object', length=154))\n",
      "(-0.028503562945368155, 59, Index(['ST26_1', 'ST35E_2', 'ST22_3', 'ST59_6', 'ST35K_3', 'ST12_1_3', 'DB2_5',\n",
      "       'ST30_1', 'ST35K_1', 'ST25_6', 'ST31_2', 'ST39_2', 'ST32E_1', 'DB2_4',\n",
      "       'DB7_7', 'ST53', 'ST36M_3', 'DB2_2W', 'ST35E_3', 'DB7_4', 'ST36M_4',\n",
      "       'PA20', 'ST24_2', 'ST35E_4', 'ST15', 'ST32M_4', 'DB7_2', 'ST36M_2',\n",
      "       'DB2_2M', 'DB7_8', 'ST21_1', 'DB3_1', 'DB2_1W', 'DB7_1', 'DB2_3W',\n",
      "       'ST32M_2', 'DB7_3', 'DB2_3M', 'ST32E_3', 'PA2', 'ST2_3', 'ST35E_1',\n",
      "       'ST14', 'ST39_3', 'DB2_1M', 'ST35M_2', 'ST21_2', 'ST35M_4', 'ST32M_3',\n",
      "       'ST31_3', 'ST30_2', 'ST35M_1', 'PA5', 'ST35M_5', 'PA6', 'ST_PREV_KOR_S',\n",
      "       'ST30_3', 'ST_PREV_ENG_S', 'ST_PREV_MATH_S'],\n",
      "      dtype='object'))\n"
     ]
    }
   ],
   "source": [
    "print(feature_importance(df, \"KOR_HIGH\", 3, 667))\n",
    "print(feature_importance(df, 'ENG_HIGH', 3, 667))\n",
    "print(feature_importance(df, 'MATH_HIGH', 3, 667))\n",
    "print(feature_importance(df2, \"KOR_HIGH\", 3, 667))\n",
    "print(feature_importance(df2, 'ENG_HIGH', 3, 667))\n",
    "print(feature_importance(df2, 'MATH_HIGH', 3, 667))\n",
    "print(feature_importance(df3, \"KOR_HIGH\", 3, 667))\n",
    "print(feature_importance(df3, 'ENG_HIGH', 3, 667))\n",
    "print(feature_importance(df3, 'MATH_HIGH', 3, 667))"
   ]
  },
  {
   "cell_type": "markdown",
   "metadata": {},
   "source": [
    "Model Ensemble"
   ]
  },
  {
   "cell_type": "code",
   "execution_count": 31,
   "metadata": {},
   "outputs": [
    {
     "name": "stderr",
     "output_type": "stream",
     "text": [
      "c:\\anaconda3\\envs\\mldl\\lib\\site-packages\\sklearn\\ensemble\\_weight_boosting.py:519: FutureWarning: The SAMME.R algorithm (the default) is deprecated and will be removed in 1.6. Use the SAMME algorithm to circumvent this warning.\n",
      "  warnings.warn(\n"
     ]
    },
    {
     "name": "stdout",
     "output_type": "stream",
     "text": [
      "Subject: KOR_HIGH\n",
      "Accuracy: 0.6770\n",
      "Sensitvity: 0.6808\n",
      "Specificity: 0.6724\n",
      "Kappa: 0.3511\n",
      "AUC: 0.7269 \n",
      "\n"
     ]
    },
    {
     "name": "stderr",
     "output_type": "stream",
     "text": [
      "c:\\anaconda3\\envs\\mldl\\lib\\site-packages\\sklearn\\ensemble\\_weight_boosting.py:519: FutureWarning: The SAMME.R algorithm (the default) is deprecated and will be removed in 1.6. Use the SAMME algorithm to circumvent this warning.\n",
      "  warnings.warn(\n"
     ]
    },
    {
     "name": "stdout",
     "output_type": "stream",
     "text": [
      "Subject: ENG_HIGH\n",
      "Accuracy: 0.7494\n",
      "Sensitvity: 0.7784\n",
      "Specificity: 0.7202\n",
      "Kappa: 0.4986\n",
      "AUC: 0.8375 \n",
      "\n"
     ]
    },
    {
     "name": "stderr",
     "output_type": "stream",
     "text": [
      "c:\\anaconda3\\envs\\mldl\\lib\\site-packages\\sklearn\\ensemble\\_weight_boosting.py:519: FutureWarning: The SAMME.R algorithm (the default) is deprecated and will be removed in 1.6. Use the SAMME algorithm to circumvent this warning.\n",
      "  warnings.warn(\n"
     ]
    },
    {
     "name": "stdout",
     "output_type": "stream",
     "text": [
      "Subject: MATH_HIGH\n",
      "Accuracy: 0.8165\n",
      "Sensitvity: 0.8145\n",
      "Specificity: 0.8193\n",
      "Kappa: 0.6286\n",
      "AUC: 0.8832 \n",
      "\n"
     ]
    },
    {
     "name": "stderr",
     "output_type": "stream",
     "text": [
      "c:\\anaconda3\\envs\\mldl\\lib\\site-packages\\sklearn\\ensemble\\_weight_boosting.py:519: FutureWarning: The SAMME.R algorithm (the default) is deprecated and will be removed in 1.6. Use the SAMME algorithm to circumvent this warning.\n",
      "  warnings.warn(\n"
     ]
    },
    {
     "name": "stdout",
     "output_type": "stream",
     "text": [
      "Subject: KOR_HIGH\n",
      "Accuracy: 0.6879\n",
      "Sensitvity: 0.7366\n",
      "Specificity: 0.6276\n",
      "Kappa: 0.3658\n",
      "AUC: 0.7563 \n",
      "\n"
     ]
    },
    {
     "name": "stderr",
     "output_type": "stream",
     "text": [
      "c:\\anaconda3\\envs\\mldl\\lib\\site-packages\\sklearn\\ensemble\\_weight_boosting.py:519: FutureWarning: The SAMME.R algorithm (the default) is deprecated and will be removed in 1.6. Use the SAMME algorithm to circumvent this warning.\n",
      "  warnings.warn(\n"
     ]
    },
    {
     "name": "stdout",
     "output_type": "stream",
     "text": [
      "Subject: ENG_HIGH\n",
      "Accuracy: 0.8178\n",
      "Sensitvity: 0.8432\n",
      "Specificity: 0.7882\n",
      "Kappa: 0.6327\n",
      "AUC: 0.8949 \n",
      "\n"
     ]
    },
    {
     "name": "stderr",
     "output_type": "stream",
     "text": [
      "c:\\anaconda3\\envs\\mldl\\lib\\site-packages\\sklearn\\ensemble\\_weight_boosting.py:519: FutureWarning: The SAMME.R algorithm (the default) is deprecated and will be removed in 1.6. Use the SAMME algorithm to circumvent this warning.\n",
      "  warnings.warn(\n"
     ]
    },
    {
     "name": "stdout",
     "output_type": "stream",
     "text": [
      "Subject: MATH_HIGH\n",
      "Accuracy: 0.7927\n",
      "Sensitvity: 0.8119\n",
      "Specificity: 0.7738\n",
      "Kappa: 0.5855\n",
      "AUC: 0.8821 \n",
      "\n"
     ]
    },
    {
     "name": "stderr",
     "output_type": "stream",
     "text": [
      "c:\\anaconda3\\envs\\mldl\\lib\\site-packages\\sklearn\\ensemble\\_weight_boosting.py:519: FutureWarning: The SAMME.R algorithm (the default) is deprecated and will be removed in 1.6. Use the SAMME algorithm to circumvent this warning.\n",
      "  warnings.warn(\n"
     ]
    },
    {
     "name": "stdout",
     "output_type": "stream",
     "text": [
      "Subject: KOR_HIGH\n",
      "Accuracy: 0.7387\n",
      "Sensitvity: 0.8160\n",
      "Specificity: 0.6603\n",
      "Kappa: 0.4768\n",
      "AUC: 0.8004 \n",
      "\n"
     ]
    },
    {
     "name": "stderr",
     "output_type": "stream",
     "text": [
      "c:\\anaconda3\\envs\\mldl\\lib\\site-packages\\sklearn\\ensemble\\_weight_boosting.py:519: FutureWarning: The SAMME.R algorithm (the default) is deprecated and will be removed in 1.6. Use the SAMME algorithm to circumvent this warning.\n",
      "  warnings.warn(\n"
     ]
    },
    {
     "name": "stdout",
     "output_type": "stream",
     "text": [
      "Subject: ENG_HIGH\n",
      "Accuracy: 0.8290\n",
      "Sensitvity: 0.8148\n",
      "Specificity: 0.8439\n",
      "Kappa: 0.6581\n",
      "AUC: 0.8946 \n",
      "\n"
     ]
    },
    {
     "name": "stderr",
     "output_type": "stream",
     "text": [
      "c:\\anaconda3\\envs\\mldl\\lib\\site-packages\\sklearn\\ensemble\\_weight_boosting.py:519: FutureWarning: The SAMME.R algorithm (the default) is deprecated and will be removed in 1.6. Use the SAMME algorithm to circumvent this warning.\n",
      "  warnings.warn(\n"
     ]
    },
    {
     "name": "stdout",
     "output_type": "stream",
     "text": [
      "Subject: MATH_HIGH\n",
      "Accuracy: 0.8147\n",
      "Sensitvity: 0.7688\n",
      "Specificity: 0.8559\n",
      "Kappa: 0.6270\n",
      "AUC: 0.8754 \n",
      "\n",
      "avg_Accuracy: 0.7693\n",
      "avg_Sensitvity: 0.7850\n",
      "avg_Specificity: 0.7513\n",
      "avg_Kappa: 0.5360\n",
      "avg_AUC: 0.8390 \n",
      "\n"
     ]
    }
   ],
   "source": [
    "# adaboost\n",
    "acc_sum = 0\n",
    "sen_sum = 0\n",
    "spe_sum = 0\n",
    "kap_sum = 0\n",
    "auc_sum = 0\n",
    "\n",
    "for grade in grade_list:\n",
    "    for subject in subject_list:\n",
    "        accuracy, sensitivity, specificity, kappa, auc = model_predict(ada_model, grade, subject)\n",
    "        print(f\"Subject: {subject}\")\n",
    "        print(f\"Accuracy: {accuracy:.4f}\")\n",
    "        print(f\"Sensitvity: {sensitivity:.4f}\")\n",
    "        print(f\"Specificity: {specificity:.4f}\")\n",
    "        print(f\"Kappa: {kappa:.4f}\")\n",
    "        print(f\"AUC: {auc:.4f} \\n\")\n",
    "        acc_sum += accuracy\n",
    "        sen_sum += sensitivity\n",
    "        spe_sum += specificity\n",
    "        kap_sum += kappa\n",
    "        auc_sum += auc\n",
    "\n",
    "print(f\"avg_Accuracy: {acc_sum/9:.4f}\")\n",
    "print(f\"avg_Sensitvity: {sen_sum/9:.4f}\")\n",
    "print(f\"avg_Specificity: {spe_sum/9:.4f}\")\n",
    "print(f\"avg_Kappa: {kap_sum/9:.4f}\")\n",
    "print(f\"avg_AUC: {auc_sum/9:.4f} \\n\")"
   ]
  },
  {
   "cell_type": "code",
   "execution_count": 32,
   "metadata": {},
   "outputs": [
    {
     "name": "stdout",
     "output_type": "stream",
     "text": [
      "Subject: KOR_HIGH\n",
      "Accuracy: 0.6744\n",
      "Sensitvity: 0.7183\n",
      "Specificity: 0.6207\n",
      "Kappa: 0.3401\n",
      "AUC: 0.7222 \n",
      "\n",
      "Subject: ENG_HIGH\n",
      "Accuracy: 0.7881\n",
      "Sensitvity: 0.8041\n",
      "Specificity: 0.7720\n",
      "Kappa: 0.5762\n",
      "AUC: 0.8569 \n",
      "\n",
      "Subject: MATH_HIGH\n",
      "Accuracy: 0.8243\n",
      "Sensitvity: 0.8281\n",
      "Specificity: 0.8193\n",
      "Kappa: 0.6435\n",
      "AUC: 0.8880 \n",
      "\n",
      "Subject: KOR_HIGH\n",
      "Accuracy: 0.6834\n",
      "Sensitvity: 0.7654\n",
      "Specificity: 0.5816\n",
      "Kappa: 0.3514\n",
      "AUC: 0.7592 \n",
      "\n",
      "Subject: ENG_HIGH\n",
      "Accuracy: 0.8428\n",
      "Sensitvity: 0.8517\n",
      "Specificity: 0.8325\n",
      "Kappa: 0.6840\n",
      "AUC: 0.9231 \n",
      "\n",
      "Subject: MATH_HIGH\n",
      "Accuracy: 0.8292\n",
      "Sensitvity: 0.8303\n",
      "Specificity: 0.8281\n",
      "Kappa: 0.6583\n",
      "AUC: 0.8946 \n",
      "\n",
      "Subject: KOR_HIGH\n",
      "Accuracy: 0.7340\n",
      "Sensitvity: 0.8019\n",
      "Specificity: 0.6651\n",
      "Kappa: 0.4674\n",
      "AUC: 0.8204 \n",
      "\n",
      "Subject: ENG_HIGH\n",
      "Accuracy: 0.8290\n",
      "Sensitvity: 0.8056\n",
      "Specificity: 0.8537\n",
      "Kappa: 0.6582\n",
      "AUC: 0.9088 \n",
      "\n",
      "Subject: MATH_HIGH\n",
      "Accuracy: 0.7957\n",
      "Sensitvity: 0.7437\n",
      "Specificity: 0.8423\n",
      "Kappa: 0.5885\n",
      "AUC: 0.8783 \n",
      "\n",
      "avg_Accuracy: 0.7779\n",
      "avg_Sensitvity: 0.7943\n",
      "avg_Specificity: 0.7573\n",
      "avg_Kappa: 0.5520\n",
      "avg_AUC: 0.8501 \n",
      "\n"
     ]
    }
   ],
   "source": [
    "# xgboost\n",
    "acc_sum = 0\n",
    "sen_sum = 0\n",
    "spe_sum = 0\n",
    "kap_sum = 0\n",
    "auc_sum = 0\n",
    "\n",
    "for grade in grade_list:\n",
    "    for subject in subject_list:\n",
    "        accuracy, sensitivity, specificity, kappa, auc = model_predict(xgb_model, grade, subject)\n",
    "        print(f\"Subject: {subject}\")\n",
    "        print(f\"Accuracy: {accuracy:.4f}\")\n",
    "        print(f\"Sensitvity: {sensitivity:.4f}\")\n",
    "        print(f\"Specificity: {specificity:.4f}\")\n",
    "        print(f\"Kappa: {kappa:.4f}\")\n",
    "        print(f\"AUC: {auc:.4f} \\n\")\n",
    "        acc_sum += accuracy\n",
    "        sen_sum += sensitivity\n",
    "        spe_sum += specificity\n",
    "        kap_sum += kappa\n",
    "        auc_sum += auc\n",
    "\n",
    "print(f\"avg_Accuracy: {acc_sum/9:.4f}\")\n",
    "print(f\"avg_Sensitvity: {sen_sum/9:.4f}\")\n",
    "print(f\"avg_Specificity: {spe_sum/9:.4f}\")\n",
    "print(f\"avg_Kappa: {kap_sum/9:.4f}\")\n",
    "print(f\"avg_AUC: {auc_sum/9:.4f} \\n\")"
   ]
  },
  {
   "cell_type": "code",
   "execution_count": null,
   "metadata": {},
   "outputs": [],
   "source": [
    "from sklearn.metrics import accuracy_score, confusion_matrix, cohen_kappa_score, roc_auc_score\n",
    "from sklearn.ensemble import VotingClassifier, RandomForestClassifier\n",
    "from sklearn.svm import SVC\n",
    "from sklearn.tree import DecisionTreeClassifier\n",
    "from sklearn.neighbors import KNeighborsClassifier\n",
    "from sklearn.neural_network import MLPClassifier\n",
    "from sklearn.model_selection import train_test_split\n",
    "\n",
    "def model_voting(df, subject, model_names=None, num_models=3):\n",
    "\n",
    "    y = df[subject]\n",
    "    X = df.drop(columns=['KOR_HIGH', 'ENG_HIGH', 'MATH_HIGH', 'KOR_S', 'ENG_S', 'MATH_S'])\n",
    "\n",
    "    X_train, X_test, y_train, y_test = train_test_split(X, y, test_size=0.2, random_state=42)\n",
    "\n",
    "    all_models = {\n",
    "        'svm': SVC(probability=True, random_state=42),\n",
    "        'decision_tree': DecisionTreeClassifier(random_state=42),\n",
    "        'random_forest': RandomForestClassifier(random_state=42),\n",
    "        'knn': KNeighborsClassifier(),\n",
    "        'mlp': MLPClassifier(random_state=42, max_iter=500),\n",
    "        'adaboost': AdaBoostClassifier(random_state=42),\n",
    "        'xgboost': XGBClassifier(random_state=42)\n",
    "    }\n",
    "\n",
    "    if model_names is None:\n",
    "        model_names = list(all_models.keys())  \n",
    "    selected_models = model_names[:num_models]  \n",
    "\n",
    "    estimators = [(name, all_models[name]) for name in selected_models]\n",
    "\n",
    "    voting_clf = VotingClassifier(\n",
    "        estimators=estimators,\n",
    "        voting='soft'  \n",
    "    )\n",
    "\n",
    "    voting_clf.fit(X_train, y_train)\n",
    "\n",
    "    y_pred = voting_clf.predict(X_test)\n",
    "    y_pred_proba = voting_clf.predict_proba(X_test)[:, 1]  \n",
    "\n",
    "    tn, fp, fn, tp = confusion_matrix(y_test, y_pred).ravel()\n",
    "    accuracy = accuracy_score(y_test, y_pred)\n",
    "    sensitivity = tp / (tp + fn) \n",
    "    specificity = tn / (tn + fp)\n",
    "    kappa = cohen_kappa_score(y_test, y_pred)\n",
    "    auc = roc_auc_score(y_test, y_pred_proba)\n",
    "\n",
    "    return accuracy, sensitivity, specificity, kappa, auc\n"
   ]
  },
  {
   "cell_type": "code",
   "execution_count": null,
   "metadata": {},
   "outputs": [
    {
     "name": "stderr",
     "output_type": "stream",
     "text": [
      "c:\\anaconda3\\envs\\mldl\\lib\\site-packages\\sklearn\\ensemble\\_weight_boosting.py:519: FutureWarning: The SAMME.R algorithm (the default) is deprecated and will be removed in 1.6. Use the SAMME algorithm to circumvent this warning.\n",
      "  warnings.warn(\n"
     ]
    },
    {
     "name": "stdout",
     "output_type": "stream",
     "text": [
      "Subject: KOR_HIGH\n",
      "Accuracy: 0.6641\n",
      "Sensitvity: 0.8075\n",
      "Specificity: 0.4885\n",
      "Kappa: 0.3037\n",
      "AUC: 0.6910 \n",
      "\n"
     ]
    },
    {
     "name": "stderr",
     "output_type": "stream",
     "text": [
      "c:\\anaconda3\\envs\\mldl\\lib\\site-packages\\sklearn\\ensemble\\_weight_boosting.py:519: FutureWarning: The SAMME.R algorithm (the default) is deprecated and will be removed in 1.6. Use the SAMME algorithm to circumvent this warning.\n",
      "  warnings.warn(\n"
     ]
    },
    {
     "name": "stdout",
     "output_type": "stream",
     "text": [
      "Subject: ENG_HIGH\n",
      "Accuracy: 0.7752\n",
      "Sensitvity: 0.8196\n",
      "Specificity: 0.7306\n",
      "Kappa: 0.5503\n",
      "AUC: 0.8489 \n",
      "\n"
     ]
    },
    {
     "name": "stderr",
     "output_type": "stream",
     "text": [
      "c:\\anaconda3\\envs\\mldl\\lib\\site-packages\\sklearn\\ensemble\\_weight_boosting.py:519: FutureWarning: The SAMME.R algorithm (the default) is deprecated and will be removed in 1.6. Use the SAMME algorithm to circumvent this warning.\n",
      "  warnings.warn(\n"
     ]
    },
    {
     "name": "stdout",
     "output_type": "stream",
     "text": [
      "Subject: MATH_HIGH\n",
      "Accuracy: 0.8295\n",
      "Sensitvity: 0.8597\n",
      "Specificity: 0.7892\n",
      "Kappa: 0.6508\n",
      "AUC: 0.9037 \n",
      "\n"
     ]
    },
    {
     "name": "stderr",
     "output_type": "stream",
     "text": [
      "c:\\anaconda3\\envs\\mldl\\lib\\site-packages\\sklearn\\ensemble\\_weight_boosting.py:519: FutureWarning: The SAMME.R algorithm (the default) is deprecated and will be removed in 1.6. Use the SAMME algorithm to circumvent this warning.\n",
      "  warnings.warn(\n"
     ]
    },
    {
     "name": "stdout",
     "output_type": "stream",
     "text": [
      "Subject: KOR_HIGH\n",
      "Accuracy: 0.6743\n",
      "Sensitvity: 0.7531\n",
      "Specificity: 0.5765\n",
      "Kappa: 0.3334\n",
      "AUC: 0.7471 \n",
      "\n"
     ]
    },
    {
     "name": "stderr",
     "output_type": "stream",
     "text": [
      "c:\\anaconda3\\envs\\mldl\\lib\\site-packages\\sklearn\\ensemble\\_weight_boosting.py:519: FutureWarning: The SAMME.R algorithm (the default) is deprecated and will be removed in 1.6. Use the SAMME algorithm to circumvent this warning.\n",
      "  warnings.warn(\n"
     ]
    },
    {
     "name": "stdout",
     "output_type": "stream",
     "text": [
      "Subject: ENG_HIGH\n",
      "Accuracy: 0.8269\n",
      "Sensitvity: 0.8432\n",
      "Specificity: 0.8079\n",
      "Kappa: 0.6516\n",
      "AUC: 0.8994 \n",
      "\n"
     ]
    },
    {
     "name": "stderr",
     "output_type": "stream",
     "text": [
      "c:\\anaconda3\\envs\\mldl\\lib\\site-packages\\sklearn\\ensemble\\_weight_boosting.py:519: FutureWarning: The SAMME.R algorithm (the default) is deprecated and will be removed in 1.6. Use the SAMME algorithm to circumvent this warning.\n",
      "  warnings.warn(\n"
     ]
    },
    {
     "name": "stdout",
     "output_type": "stream",
     "text": [
      "Subject: MATH_HIGH\n",
      "Accuracy: 0.8041\n",
      "Sensitvity: 0.7752\n",
      "Specificity: 0.8326\n",
      "Kappa: 0.6080\n",
      "AUC: 0.8846 \n",
      "\n"
     ]
    },
    {
     "name": "stderr",
     "output_type": "stream",
     "text": [
      "c:\\anaconda3\\envs\\mldl\\lib\\site-packages\\sklearn\\ensemble\\_weight_boosting.py:519: FutureWarning: The SAMME.R algorithm (the default) is deprecated and will be removed in 1.6. Use the SAMME algorithm to circumvent this warning.\n",
      "  warnings.warn(\n"
     ]
    },
    {
     "name": "stdout",
     "output_type": "stream",
     "text": [
      "Subject: KOR_HIGH\n",
      "Accuracy: 0.7150\n",
      "Sensitvity: 0.7736\n",
      "Specificity: 0.6555\n",
      "Kappa: 0.4294\n",
      "AUC: 0.7915 \n",
      "\n"
     ]
    },
    {
     "name": "stderr",
     "output_type": "stream",
     "text": [
      "c:\\anaconda3\\envs\\mldl\\lib\\site-packages\\sklearn\\ensemble\\_weight_boosting.py:519: FutureWarning: The SAMME.R algorithm (the default) is deprecated and will be removed in 1.6. Use the SAMME algorithm to circumvent this warning.\n",
      "  warnings.warn(\n"
     ]
    },
    {
     "name": "stdout",
     "output_type": "stream",
     "text": [
      "Subject: ENG_HIGH\n",
      "Accuracy: 0.8314\n",
      "Sensitvity: 0.8102\n",
      "Specificity: 0.8537\n",
      "Kappa: 0.6629\n",
      "AUC: 0.9037 \n",
      "\n"
     ]
    },
    {
     "name": "stderr",
     "output_type": "stream",
     "text": [
      "c:\\anaconda3\\envs\\mldl\\lib\\site-packages\\sklearn\\ensemble\\_weight_boosting.py:519: FutureWarning: The SAMME.R algorithm (the default) is deprecated and will be removed in 1.6. Use the SAMME algorithm to circumvent this warning.\n",
      "  warnings.warn(\n"
     ]
    },
    {
     "name": "stdout",
     "output_type": "stream",
     "text": [
      "Subject: MATH_HIGH\n",
      "Accuracy: 0.8242\n",
      "Sensitvity: 0.7638\n",
      "Specificity: 0.8784\n",
      "Kappa: 0.6456\n",
      "AUC: 0.8945 \n",
      "\n",
      "avg_Accuracy: 0.7716\n",
      "avg_Sensitvity: 0.8007\n",
      "avg_Specificity: 0.7348\n",
      "avg_Kappa: 0.5373\n",
      "avg_AUC: 0.8405 \n",
      "\n"
     ]
    }
   ],
   "source": [
    "acc_sum = 0\n",
    "sen_sum = 0\n",
    "spe_sum = 0\n",
    "kap_sum = 0\n",
    "auc_sum = 0\n",
    "\n",
    "for grade in grade_list:\n",
    "    for subject in subject_list:\n",
    "        accuracy, sensitivity, specificity, kappa, auc = model_voting(grade, subject, ['svm', 'decision_tree', 'random_forest', 'knn', 'mlp', 'adaboost', 'xgboost'],7)\n",
    "        print(f\"Subject: {subject}\")\n",
    "        print(f\"Accuracy: {accuracy:.4f}\")\n",
    "        print(f\"Sensitvity: {sensitivity:.4f}\")\n",
    "        print(f\"Specificity: {specificity:.4f}\")\n",
    "        print(f\"Kappa: {kappa:.4f}\")\n",
    "        print(f\"AUC: {auc:.4f} \\n\")\n",
    "        acc_sum += accuracy\n",
    "        sen_sum += sensitivity\n",
    "        spe_sum += specificity\n",
    "        kap_sum += kappa\n",
    "        auc_sum += auc\n",
    "\n",
    "print(f\"avg_Accuracy: {acc_sum/9:.4f}\")\n",
    "print(f\"avg_Sensitvity: {sen_sum/9:.4f}\")\n",
    "print(f\"avg_Specificity: {spe_sum/9:.4f}\")\n",
    "print(f\"avg_Kappa: {kap_sum/9:.4f}\")\n",
    "print(f\"avg_AUC: {auc_sum/9:.4f} \\n\")"
   ]
  },
  {
   "cell_type": "code",
   "execution_count": 35,
   "metadata": {},
   "outputs": [],
   "source": [
    "from sklearn.metrics import accuracy_score, confusion_matrix, cohen_kappa_score, roc_auc_score\n",
    "from sklearn.ensemble import StackingClassifier, RandomForestClassifier\n",
    "from sklearn.svm import SVC\n",
    "from sklearn.tree import DecisionTreeClassifier\n",
    "from sklearn.neighbors import KNeighborsClassifier\n",
    "from sklearn.neural_network import MLPClassifier\n",
    "from sklearn.linear_model import LogisticRegression\n",
    "from sklearn.model_selection import train_test_split\n",
    "\n",
    "def model_stacking(df, subject, model_names, num_models=3):\n",
    "\n",
    "    y = df[subject]\n",
    "    X = df.drop(columns=['KOR_HIGH', 'ENG_HIGH', 'MATH_HIGH', 'KOR_S', 'ENG_S', 'MATH_S'])\n",
    "\n",
    "    X_train, X_test, y_train, y_test = train_test_split(X, y, test_size=0.2, random_state=42)\n",
    "\n",
    "    all_models = {\n",
    "        'svm': SVC(probability=True, random_state=42),\n",
    "        'decision_tree': DecisionTreeClassifier(random_state=42),\n",
    "        'random_forest': RandomForestClassifier(random_state=42),\n",
    "        'knn': KNeighborsClassifier(),\n",
    "        'mlp': MLPClassifier(random_state=42, max_iter=500),\n",
    "        'adaboost': AdaBoostClassifier(random_state=42),\n",
    "        'xgboost': XGBClassifier(random_state=42)\n",
    "    }\n",
    "\n",
    "    selected_models = model_names[:num_models] \n",
    "\n",
    "    base_estimators = [(name, all_models[name]) for name in selected_models]\n",
    "\n",
    "    meta_model = LogisticRegression()\n",
    "\n",
    "    stacking_clf = StackingClassifier(\n",
    "        estimators=base_estimators,\n",
    "        final_estimator=meta_model,\n",
    "        cv=5  \n",
    "    )\n",
    "\n",
    "    stacking_clf.fit(X_train, y_train)\n",
    "\n",
    "    y_pred = stacking_clf.predict(X_test)\n",
    "    y_pred_proba = stacking_clf.predict_proba(X_test)[:, 1]  \n",
    "\n",
    "    tn, fp, fn, tp = confusion_matrix(y_test, y_pred).ravel()\n",
    "    accuracy = accuracy_score(y_test, y_pred)\n",
    "    sensitivity = tp / (tp + fn)  \n",
    "    specificity = tn / (tn + fp)\n",
    "    kappa = cohen_kappa_score(y_test, y_pred)\n",
    "    auc = roc_auc_score(y_test, y_pred_proba)\n",
    "\n",
    "    return accuracy, sensitivity, specificity, kappa, auc\n"
   ]
  },
  {
   "cell_type": "code",
   "execution_count": null,
   "metadata": {},
   "outputs": [
    {
     "name": "stderr",
     "output_type": "stream",
     "text": [
      "c:\\anaconda3\\envs\\mldl\\lib\\site-packages\\sklearn\\ensemble\\_weight_boosting.py:519: FutureWarning: The SAMME.R algorithm (the default) is deprecated and will be removed in 1.6. Use the SAMME algorithm to circumvent this warning.\n",
      "  warnings.warn(\n",
      "c:\\anaconda3\\envs\\mldl\\lib\\site-packages\\sklearn\\ensemble\\_weight_boosting.py:519: FutureWarning: The SAMME.R algorithm (the default) is deprecated and will be removed in 1.6. Use the SAMME algorithm to circumvent this warning.\n",
      "  warnings.warn(\n",
      "c:\\anaconda3\\envs\\mldl\\lib\\site-packages\\sklearn\\ensemble\\_weight_boosting.py:519: FutureWarning: The SAMME.R algorithm (the default) is deprecated and will be removed in 1.6. Use the SAMME algorithm to circumvent this warning.\n",
      "  warnings.warn(\n",
      "c:\\anaconda3\\envs\\mldl\\lib\\site-packages\\sklearn\\ensemble\\_weight_boosting.py:519: FutureWarning: The SAMME.R algorithm (the default) is deprecated and will be removed in 1.6. Use the SAMME algorithm to circumvent this warning.\n",
      "  warnings.warn(\n",
      "c:\\anaconda3\\envs\\mldl\\lib\\site-packages\\sklearn\\ensemble\\_weight_boosting.py:519: FutureWarning: The SAMME.R algorithm (the default) is deprecated and will be removed in 1.6. Use the SAMME algorithm to circumvent this warning.\n",
      "  warnings.warn(\n",
      "c:\\anaconda3\\envs\\mldl\\lib\\site-packages\\sklearn\\ensemble\\_weight_boosting.py:519: FutureWarning: The SAMME.R algorithm (the default) is deprecated and will be removed in 1.6. Use the SAMME algorithm to circumvent this warning.\n",
      "  warnings.warn(\n"
     ]
    },
    {
     "name": "stdout",
     "output_type": "stream",
     "text": [
      "Subject: KOR_HIGH\n",
      "Accuracy: 0.6744\n",
      "Sensitvity: 0.7183\n",
      "Specificity: 0.6207\n",
      "Kappa: 0.3401\n",
      "AUC: 0.7280 \n",
      "\n"
     ]
    },
    {
     "name": "stderr",
     "output_type": "stream",
     "text": [
      "c:\\anaconda3\\envs\\mldl\\lib\\site-packages\\sklearn\\ensemble\\_weight_boosting.py:519: FutureWarning: The SAMME.R algorithm (the default) is deprecated and will be removed in 1.6. Use the SAMME algorithm to circumvent this warning.\n",
      "  warnings.warn(\n",
      "c:\\anaconda3\\envs\\mldl\\lib\\site-packages\\sklearn\\ensemble\\_weight_boosting.py:519: FutureWarning: The SAMME.R algorithm (the default) is deprecated and will be removed in 1.6. Use the SAMME algorithm to circumvent this warning.\n",
      "  warnings.warn(\n",
      "c:\\anaconda3\\envs\\mldl\\lib\\site-packages\\sklearn\\ensemble\\_weight_boosting.py:519: FutureWarning: The SAMME.R algorithm (the default) is deprecated and will be removed in 1.6. Use the SAMME algorithm to circumvent this warning.\n",
      "  warnings.warn(\n",
      "c:\\anaconda3\\envs\\mldl\\lib\\site-packages\\sklearn\\ensemble\\_weight_boosting.py:519: FutureWarning: The SAMME.R algorithm (the default) is deprecated and will be removed in 1.6. Use the SAMME algorithm to circumvent this warning.\n",
      "  warnings.warn(\n",
      "c:\\anaconda3\\envs\\mldl\\lib\\site-packages\\sklearn\\ensemble\\_weight_boosting.py:519: FutureWarning: The SAMME.R algorithm (the default) is deprecated and will be removed in 1.6. Use the SAMME algorithm to circumvent this warning.\n",
      "  warnings.warn(\n",
      "c:\\anaconda3\\envs\\mldl\\lib\\site-packages\\sklearn\\ensemble\\_weight_boosting.py:519: FutureWarning: The SAMME.R algorithm (the default) is deprecated and will be removed in 1.6. Use the SAMME algorithm to circumvent this warning.\n",
      "  warnings.warn(\n"
     ]
    },
    {
     "name": "stdout",
     "output_type": "stream",
     "text": [
      "Subject: ENG_HIGH\n",
      "Accuracy: 0.7959\n",
      "Sensitvity: 0.8093\n",
      "Specificity: 0.7824\n",
      "Kappa: 0.5917\n",
      "AUC: 0.8664 \n",
      "\n"
     ]
    },
    {
     "name": "stderr",
     "output_type": "stream",
     "text": [
      "c:\\anaconda3\\envs\\mldl\\lib\\site-packages\\sklearn\\ensemble\\_weight_boosting.py:519: FutureWarning: The SAMME.R algorithm (the default) is deprecated and will be removed in 1.6. Use the SAMME algorithm to circumvent this warning.\n",
      "  warnings.warn(\n",
      "c:\\anaconda3\\envs\\mldl\\lib\\site-packages\\sklearn\\ensemble\\_weight_boosting.py:519: FutureWarning: The SAMME.R algorithm (the default) is deprecated and will be removed in 1.6. Use the SAMME algorithm to circumvent this warning.\n",
      "  warnings.warn(\n",
      "c:\\anaconda3\\envs\\mldl\\lib\\site-packages\\sklearn\\ensemble\\_weight_boosting.py:519: FutureWarning: The SAMME.R algorithm (the default) is deprecated and will be removed in 1.6. Use the SAMME algorithm to circumvent this warning.\n",
      "  warnings.warn(\n",
      "c:\\anaconda3\\envs\\mldl\\lib\\site-packages\\sklearn\\ensemble\\_weight_boosting.py:519: FutureWarning: The SAMME.R algorithm (the default) is deprecated and will be removed in 1.6. Use the SAMME algorithm to circumvent this warning.\n",
      "  warnings.warn(\n",
      "c:\\anaconda3\\envs\\mldl\\lib\\site-packages\\sklearn\\ensemble\\_weight_boosting.py:519: FutureWarning: The SAMME.R algorithm (the default) is deprecated and will be removed in 1.6. Use the SAMME algorithm to circumvent this warning.\n",
      "  warnings.warn(\n",
      "c:\\anaconda3\\envs\\mldl\\lib\\site-packages\\sklearn\\ensemble\\_weight_boosting.py:519: FutureWarning: The SAMME.R algorithm (the default) is deprecated and will be removed in 1.6. Use the SAMME algorithm to circumvent this warning.\n",
      "  warnings.warn(\n"
     ]
    },
    {
     "name": "stdout",
     "output_type": "stream",
     "text": [
      "Subject: MATH_HIGH\n",
      "Accuracy: 0.8320\n",
      "Sensitvity: 0.8462\n",
      "Specificity: 0.8133\n",
      "Kappa: 0.6579\n",
      "AUC: 0.9086 \n",
      "\n"
     ]
    },
    {
     "name": "stderr",
     "output_type": "stream",
     "text": [
      "c:\\anaconda3\\envs\\mldl\\lib\\site-packages\\sklearn\\ensemble\\_weight_boosting.py:519: FutureWarning: The SAMME.R algorithm (the default) is deprecated and will be removed in 1.6. Use the SAMME algorithm to circumvent this warning.\n",
      "  warnings.warn(\n",
      "c:\\anaconda3\\envs\\mldl\\lib\\site-packages\\sklearn\\ensemble\\_weight_boosting.py:519: FutureWarning: The SAMME.R algorithm (the default) is deprecated and will be removed in 1.6. Use the SAMME algorithm to circumvent this warning.\n",
      "  warnings.warn(\n",
      "c:\\anaconda3\\envs\\mldl\\lib\\site-packages\\sklearn\\ensemble\\_weight_boosting.py:519: FutureWarning: The SAMME.R algorithm (the default) is deprecated and will be removed in 1.6. Use the SAMME algorithm to circumvent this warning.\n",
      "  warnings.warn(\n",
      "c:\\anaconda3\\envs\\mldl\\lib\\site-packages\\sklearn\\ensemble\\_weight_boosting.py:519: FutureWarning: The SAMME.R algorithm (the default) is deprecated and will be removed in 1.6. Use the SAMME algorithm to circumvent this warning.\n",
      "  warnings.warn(\n",
      "c:\\anaconda3\\envs\\mldl\\lib\\site-packages\\sklearn\\ensemble\\_weight_boosting.py:519: FutureWarning: The SAMME.R algorithm (the default) is deprecated and will be removed in 1.6. Use the SAMME algorithm to circumvent this warning.\n",
      "  warnings.warn(\n",
      "c:\\anaconda3\\envs\\mldl\\lib\\site-packages\\sklearn\\ensemble\\_weight_boosting.py:519: FutureWarning: The SAMME.R algorithm (the default) is deprecated and will be removed in 1.6. Use the SAMME algorithm to circumvent this warning.\n",
      "  warnings.warn(\n"
     ]
    },
    {
     "name": "stdout",
     "output_type": "stream",
     "text": [
      "Subject: KOR_HIGH\n",
      "Accuracy: 0.6902\n",
      "Sensitvity: 0.7695\n",
      "Specificity: 0.5918\n",
      "Kappa: 0.3657\n",
      "AUC: 0.7782 \n",
      "\n"
     ]
    },
    {
     "name": "stderr",
     "output_type": "stream",
     "text": [
      "c:\\anaconda3\\envs\\mldl\\lib\\site-packages\\sklearn\\ensemble\\_weight_boosting.py:519: FutureWarning: The SAMME.R algorithm (the default) is deprecated and will be removed in 1.6. Use the SAMME algorithm to circumvent this warning.\n",
      "  warnings.warn(\n",
      "c:\\anaconda3\\envs\\mldl\\lib\\site-packages\\sklearn\\ensemble\\_weight_boosting.py:519: FutureWarning: The SAMME.R algorithm (the default) is deprecated and will be removed in 1.6. Use the SAMME algorithm to circumvent this warning.\n",
      "  warnings.warn(\n",
      "c:\\anaconda3\\envs\\mldl\\lib\\site-packages\\sklearn\\ensemble\\_weight_boosting.py:519: FutureWarning: The SAMME.R algorithm (the default) is deprecated and will be removed in 1.6. Use the SAMME algorithm to circumvent this warning.\n",
      "  warnings.warn(\n",
      "c:\\anaconda3\\envs\\mldl\\lib\\site-packages\\sklearn\\ensemble\\_weight_boosting.py:519: FutureWarning: The SAMME.R algorithm (the default) is deprecated and will be removed in 1.6. Use the SAMME algorithm to circumvent this warning.\n",
      "  warnings.warn(\n",
      "c:\\anaconda3\\envs\\mldl\\lib\\site-packages\\sklearn\\ensemble\\_weight_boosting.py:519: FutureWarning: The SAMME.R algorithm (the default) is deprecated and will be removed in 1.6. Use the SAMME algorithm to circumvent this warning.\n",
      "  warnings.warn(\n",
      "c:\\anaconda3\\envs\\mldl\\lib\\site-packages\\sklearn\\ensemble\\_weight_boosting.py:519: FutureWarning: The SAMME.R algorithm (the default) is deprecated and will be removed in 1.6. Use the SAMME algorithm to circumvent this warning.\n",
      "  warnings.warn(\n"
     ]
    },
    {
     "name": "stdout",
     "output_type": "stream",
     "text": [
      "Subject: ENG_HIGH\n",
      "Accuracy: 0.8405\n",
      "Sensitvity: 0.8390\n",
      "Specificity: 0.8424\n",
      "Kappa: 0.6799\n",
      "AUC: 0.9144 \n",
      "\n"
     ]
    },
    {
     "name": "stderr",
     "output_type": "stream",
     "text": [
      "c:\\anaconda3\\envs\\mldl\\lib\\site-packages\\sklearn\\ensemble\\_weight_boosting.py:519: FutureWarning: The SAMME.R algorithm (the default) is deprecated and will be removed in 1.6. Use the SAMME algorithm to circumvent this warning.\n",
      "  warnings.warn(\n",
      "c:\\anaconda3\\envs\\mldl\\lib\\site-packages\\sklearn\\ensemble\\_weight_boosting.py:519: FutureWarning: The SAMME.R algorithm (the default) is deprecated and will be removed in 1.6. Use the SAMME algorithm to circumvent this warning.\n",
      "  warnings.warn(\n",
      "c:\\anaconda3\\envs\\mldl\\lib\\site-packages\\sklearn\\ensemble\\_weight_boosting.py:519: FutureWarning: The SAMME.R algorithm (the default) is deprecated and will be removed in 1.6. Use the SAMME algorithm to circumvent this warning.\n",
      "  warnings.warn(\n",
      "c:\\anaconda3\\envs\\mldl\\lib\\site-packages\\sklearn\\ensemble\\_weight_boosting.py:519: FutureWarning: The SAMME.R algorithm (the default) is deprecated and will be removed in 1.6. Use the SAMME algorithm to circumvent this warning.\n",
      "  warnings.warn(\n",
      "c:\\anaconda3\\envs\\mldl\\lib\\site-packages\\sklearn\\ensemble\\_weight_boosting.py:519: FutureWarning: The SAMME.R algorithm (the default) is deprecated and will be removed in 1.6. Use the SAMME algorithm to circumvent this warning.\n",
      "  warnings.warn(\n",
      "c:\\anaconda3\\envs\\mldl\\lib\\site-packages\\sklearn\\ensemble\\_weight_boosting.py:519: FutureWarning: The SAMME.R algorithm (the default) is deprecated and will be removed in 1.6. Use the SAMME algorithm to circumvent this warning.\n",
      "  warnings.warn(\n"
     ]
    },
    {
     "name": "stdout",
     "output_type": "stream",
     "text": [
      "Subject: MATH_HIGH\n",
      "Accuracy: 0.8314\n",
      "Sensitvity: 0.8028\n",
      "Specificity: 0.8597\n",
      "Kappa: 0.6627\n",
      "AUC: 0.8944 \n",
      "\n"
     ]
    },
    {
     "name": "stderr",
     "output_type": "stream",
     "text": [
      "c:\\anaconda3\\envs\\mldl\\lib\\site-packages\\sklearn\\ensemble\\_weight_boosting.py:519: FutureWarning: The SAMME.R algorithm (the default) is deprecated and will be removed in 1.6. Use the SAMME algorithm to circumvent this warning.\n",
      "  warnings.warn(\n",
      "c:\\anaconda3\\envs\\mldl\\lib\\site-packages\\sklearn\\ensemble\\_weight_boosting.py:519: FutureWarning: The SAMME.R algorithm (the default) is deprecated and will be removed in 1.6. Use the SAMME algorithm to circumvent this warning.\n",
      "  warnings.warn(\n",
      "c:\\anaconda3\\envs\\mldl\\lib\\site-packages\\sklearn\\ensemble\\_weight_boosting.py:519: FutureWarning: The SAMME.R algorithm (the default) is deprecated and will be removed in 1.6. Use the SAMME algorithm to circumvent this warning.\n",
      "  warnings.warn(\n",
      "c:\\anaconda3\\envs\\mldl\\lib\\site-packages\\sklearn\\ensemble\\_weight_boosting.py:519: FutureWarning: The SAMME.R algorithm (the default) is deprecated and will be removed in 1.6. Use the SAMME algorithm to circumvent this warning.\n",
      "  warnings.warn(\n",
      "c:\\anaconda3\\envs\\mldl\\lib\\site-packages\\sklearn\\ensemble\\_weight_boosting.py:519: FutureWarning: The SAMME.R algorithm (the default) is deprecated and will be removed in 1.6. Use the SAMME algorithm to circumvent this warning.\n",
      "  warnings.warn(\n",
      "c:\\anaconda3\\envs\\mldl\\lib\\site-packages\\sklearn\\ensemble\\_weight_boosting.py:519: FutureWarning: The SAMME.R algorithm (the default) is deprecated and will be removed in 1.6. Use the SAMME algorithm to circumvent this warning.\n",
      "  warnings.warn(\n"
     ]
    },
    {
     "name": "stdout",
     "output_type": "stream",
     "text": [
      "Subject: KOR_HIGH\n",
      "Accuracy: 0.7292\n",
      "Sensitvity: 0.7972\n",
      "Specificity: 0.6603\n",
      "Kappa: 0.4579\n",
      "AUC: 0.8197 \n",
      "\n"
     ]
    },
    {
     "name": "stderr",
     "output_type": "stream",
     "text": [
      "c:\\anaconda3\\envs\\mldl\\lib\\site-packages\\sklearn\\ensemble\\_weight_boosting.py:519: FutureWarning: The SAMME.R algorithm (the default) is deprecated and will be removed in 1.6. Use the SAMME algorithm to circumvent this warning.\n",
      "  warnings.warn(\n",
      "c:\\anaconda3\\envs\\mldl\\lib\\site-packages\\sklearn\\ensemble\\_weight_boosting.py:519: FutureWarning: The SAMME.R algorithm (the default) is deprecated and will be removed in 1.6. Use the SAMME algorithm to circumvent this warning.\n",
      "  warnings.warn(\n",
      "c:\\anaconda3\\envs\\mldl\\lib\\site-packages\\sklearn\\ensemble\\_weight_boosting.py:519: FutureWarning: The SAMME.R algorithm (the default) is deprecated and will be removed in 1.6. Use the SAMME algorithm to circumvent this warning.\n",
      "  warnings.warn(\n",
      "c:\\anaconda3\\envs\\mldl\\lib\\site-packages\\sklearn\\ensemble\\_weight_boosting.py:519: FutureWarning: The SAMME.R algorithm (the default) is deprecated and will be removed in 1.6. Use the SAMME algorithm to circumvent this warning.\n",
      "  warnings.warn(\n",
      "c:\\anaconda3\\envs\\mldl\\lib\\site-packages\\sklearn\\ensemble\\_weight_boosting.py:519: FutureWarning: The SAMME.R algorithm (the default) is deprecated and will be removed in 1.6. Use the SAMME algorithm to circumvent this warning.\n",
      "  warnings.warn(\n",
      "c:\\anaconda3\\envs\\mldl\\lib\\site-packages\\sklearn\\ensemble\\_weight_boosting.py:519: FutureWarning: The SAMME.R algorithm (the default) is deprecated and will be removed in 1.6. Use the SAMME algorithm to circumvent this warning.\n",
      "  warnings.warn(\n"
     ]
    },
    {
     "name": "stdout",
     "output_type": "stream",
     "text": [
      "Subject: ENG_HIGH\n",
      "Accuracy: 0.8432\n",
      "Sensitvity: 0.8241\n",
      "Specificity: 0.8634\n",
      "Kappa: 0.6866\n",
      "AUC: 0.9157 \n",
      "\n"
     ]
    },
    {
     "name": "stderr",
     "output_type": "stream",
     "text": [
      "c:\\anaconda3\\envs\\mldl\\lib\\site-packages\\sklearn\\ensemble\\_weight_boosting.py:519: FutureWarning: The SAMME.R algorithm (the default) is deprecated and will be removed in 1.6. Use the SAMME algorithm to circumvent this warning.\n",
      "  warnings.warn(\n",
      "c:\\anaconda3\\envs\\mldl\\lib\\site-packages\\sklearn\\ensemble\\_weight_boosting.py:519: FutureWarning: The SAMME.R algorithm (the default) is deprecated and will be removed in 1.6. Use the SAMME algorithm to circumvent this warning.\n",
      "  warnings.warn(\n",
      "c:\\anaconda3\\envs\\mldl\\lib\\site-packages\\sklearn\\ensemble\\_weight_boosting.py:519: FutureWarning: The SAMME.R algorithm (the default) is deprecated and will be removed in 1.6. Use the SAMME algorithm to circumvent this warning.\n",
      "  warnings.warn(\n",
      "c:\\anaconda3\\envs\\mldl\\lib\\site-packages\\sklearn\\ensemble\\_weight_boosting.py:519: FutureWarning: The SAMME.R algorithm (the default) is deprecated and will be removed in 1.6. Use the SAMME algorithm to circumvent this warning.\n",
      "  warnings.warn(\n",
      "c:\\anaconda3\\envs\\mldl\\lib\\site-packages\\sklearn\\ensemble\\_weight_boosting.py:519: FutureWarning: The SAMME.R algorithm (the default) is deprecated and will be removed in 1.6. Use the SAMME algorithm to circumvent this warning.\n",
      "  warnings.warn(\n",
      "c:\\anaconda3\\envs\\mldl\\lib\\site-packages\\sklearn\\ensemble\\_weight_boosting.py:519: FutureWarning: The SAMME.R algorithm (the default) is deprecated and will be removed in 1.6. Use the SAMME algorithm to circumvent this warning.\n",
      "  warnings.warn(\n"
     ]
    },
    {
     "name": "stdout",
     "output_type": "stream",
     "text": [
      "Subject: MATH_HIGH\n",
      "Accuracy: 0.8195\n",
      "Sensitvity: 0.7437\n",
      "Specificity: 0.8874\n",
      "Kappa: 0.6354\n",
      "AUC: 0.8900 \n",
      "\n",
      "avg_Accuracy: 0.7840\n",
      "avg_Sensitvity: 0.7944\n",
      "avg_Specificity: 0.7690\n",
      "avg_Kappa: 0.5642\n",
      "avg_AUC: 0.8573 \n",
      "\n"
     ]
    }
   ],
   "source": [
    "acc_sum = 0\n",
    "sen_sum = 0\n",
    "spe_sum = 0\n",
    "kap_sum = 0\n",
    "auc_sum = 0\n",
    "\n",
    "for grade in grade_list:\n",
    "    for subject in subject_list:\n",
    "        accuracy, sensitivity, specificity, kappa, auc = model_stacking(grade, subject, ['svm', 'decision_tree', 'random_forest', 'knn', 'mlp', 'adaboost', 'xgboost'], 7)\n",
    "        print(f\"Subject: {subject}\")\n",
    "        print(f\"Accuracy: {accuracy:.4f}\")\n",
    "        print(f\"Sensitvity: {sensitivity:.4f}\")\n",
    "        print(f\"Specificity: {specificity:.4f}\")\n",
    "        print(f\"Kappa: {kappa:.4f}\")\n",
    "        print(f\"AUC: {auc:.4f} \\n\")\n",
    "        acc_sum += accuracy\n",
    "        sen_sum += sensitivity\n",
    "        spe_sum += specificity\n",
    "        kap_sum += kappa\n",
    "        auc_sum += auc\n",
    "\n",
    "print(f\"avg_Accuracy: {acc_sum/9:.4f}\")\n",
    "print(f\"avg_Sensitvity: {sen_sum/9:.4f}\")\n",
    "print(f\"avg_Specificity: {spe_sum/9:.4f}\")\n",
    "print(f\"avg_Kappa: {kap_sum/9:.4f}\")\n",
    "print(f\"avg_AUC: {auc_sum/9:.4f} \\n\")"
   ]
  },
  {
   "cell_type": "markdown",
   "metadata": {},
   "source": [
    "Stacking + feature selection"
   ]
  },
  {
   "cell_type": "code",
   "execution_count": 40,
   "metadata": {},
   "outputs": [],
   "source": [
    "import numpy as np\n",
    "from sklearn.metrics import accuracy_score, confusion_matrix, cohen_kappa_score, roc_auc_score\n",
    "from sklearn.ensemble import StackingClassifier, RandomForestClassifier, AdaBoostClassifier\n",
    "from sklearn.svm import SVC\n",
    "from sklearn.tree import DecisionTreeClassifier\n",
    "from sklearn.neighbors import KNeighborsClassifier\n",
    "from sklearn.neural_network import MLPClassifier\n",
    "from sklearn.linear_model import LogisticRegression\n",
    "from xgboost import XGBClassifier\n",
    "from sklearn.model_selection import train_test_split\n",
    "\n",
    "def model_stacking_with_feature_selection(df, subject, model_names, num_models, n_features):\n",
    "    y = df[subject]\n",
    "    X = df.drop(columns=['KOR_HIGH', 'ENG_HIGH', 'MATH_HIGH', 'KOR_S', 'ENG_S', 'MATH_S'])\n",
    "\n",
    "    X_train, X_test, y_train, y_test = train_test_split(X, y, test_size=0.2, random_state=42)\n",
    "\n",
    "    importance_model = RandomForestClassifier(random_state=42)\n",
    "    importance_model.fit(X_train, y_train)\n",
    "    feature_importances = importance_model.feature_importances_\n",
    "\n",
    "    important_indices = np.argsort(feature_importances)[-n_features:] \n",
    "    important_features = X.columns[important_indices]  \n",
    "\n",
    "    X_train = X_train[important_features]\n",
    "    X_test = X_test[important_features]\n",
    "\n",
    "    all_models = {\n",
    "        'svm': SVC(probability=True, random_state=42),\n",
    "        'decision_tree': DecisionTreeClassifier(random_state=42),\n",
    "        'random_forest': RandomForestClassifier(random_state=42),\n",
    "        'knn': KNeighborsClassifier(),\n",
    "        'mlp': MLPClassifier(random_state=42, max_iter=500),\n",
    "        'adaboost': AdaBoostClassifier(random_state=42),\n",
    "        'xgboost': XGBClassifier(random_state=42)\n",
    "    }\n",
    "\n",
    "    selected_models = model_names[:num_models]\n",
    "\n",
    "    base_estimators = [(name, all_models[name]) for name in selected_models]\n",
    "\n",
    "    meta_model = LogisticRegression()\n",
    "\n",
    "    \n",
    "    stacking_clf = StackingClassifier(\n",
    "        estimators=base_estimators,\n",
    "        final_estimator=meta_model,\n",
    "        cv=5  \n",
    "    )\n",
    "\n",
    "    stacking_clf.fit(X_train, y_train)\n",
    "\n",
    "    y_pred = stacking_clf.predict(X_test)\n",
    "    y_pred_proba = stacking_clf.predict_proba(X_test)[:, 1]\n",
    "\n",
    "    tn, fp, fn, tp = confusion_matrix(y_test, y_pred).ravel()\n",
    "    accuracy = accuracy_score(y_test, y_pred)\n",
    "    sensitivity = tp / (tp + fn)  \n",
    "    specificity = tn / (tn + fp)\n",
    "    kappa = cohen_kappa_score(y_test, y_pred)\n",
    "    auc = roc_auc_score(y_test, y_pred_proba)\n",
    "\n",
    "    return accuracy, sensitivity, specificity, kappa, auc"
   ]
  },
  {
   "cell_type": "code",
   "execution_count": 41,
   "metadata": {},
   "outputs": [
    {
     "name": "stderr",
     "output_type": "stream",
     "text": [
      "c:\\anaconda3\\envs\\mldl\\lib\\site-packages\\sklearn\\ensemble\\_weight_boosting.py:519: FutureWarning: The SAMME.R algorithm (the default) is deprecated and will be removed in 1.6. Use the SAMME algorithm to circumvent this warning.\n",
      "  warnings.warn(\n",
      "c:\\anaconda3\\envs\\mldl\\lib\\site-packages\\sklearn\\ensemble\\_weight_boosting.py:519: FutureWarning: The SAMME.R algorithm (the default) is deprecated and will be removed in 1.6. Use the SAMME algorithm to circumvent this warning.\n",
      "  warnings.warn(\n",
      "c:\\anaconda3\\envs\\mldl\\lib\\site-packages\\sklearn\\ensemble\\_weight_boosting.py:519: FutureWarning: The SAMME.R algorithm (the default) is deprecated and will be removed in 1.6. Use the SAMME algorithm to circumvent this warning.\n",
      "  warnings.warn(\n",
      "c:\\anaconda3\\envs\\mldl\\lib\\site-packages\\sklearn\\ensemble\\_weight_boosting.py:519: FutureWarning: The SAMME.R algorithm (the default) is deprecated and will be removed in 1.6. Use the SAMME algorithm to circumvent this warning.\n",
      "  warnings.warn(\n",
      "c:\\anaconda3\\envs\\mldl\\lib\\site-packages\\sklearn\\ensemble\\_weight_boosting.py:519: FutureWarning: The SAMME.R algorithm (the default) is deprecated and will be removed in 1.6. Use the SAMME algorithm to circumvent this warning.\n",
      "  warnings.warn(\n",
      "c:\\anaconda3\\envs\\mldl\\lib\\site-packages\\sklearn\\ensemble\\_weight_boosting.py:519: FutureWarning: The SAMME.R algorithm (the default) is deprecated and will be removed in 1.6. Use the SAMME algorithm to circumvent this warning.\n",
      "  warnings.warn(\n"
     ]
    },
    {
     "name": "stdout",
     "output_type": "stream",
     "text": [
      "Subject: KOR_HIGH\n",
      "Accuracy: 0.6977\n",
      "Sensitvity: 0.7653\n",
      "Specificity: 0.6149\n",
      "Kappa: 0.3836\n",
      "AUC: 0.7668 \n",
      "\n"
     ]
    },
    {
     "name": "stderr",
     "output_type": "stream",
     "text": [
      "c:\\anaconda3\\envs\\mldl\\lib\\site-packages\\sklearn\\ensemble\\_weight_boosting.py:519: FutureWarning: The SAMME.R algorithm (the default) is deprecated and will be removed in 1.6. Use the SAMME algorithm to circumvent this warning.\n",
      "  warnings.warn(\n",
      "c:\\anaconda3\\envs\\mldl\\lib\\site-packages\\sklearn\\ensemble\\_weight_boosting.py:519: FutureWarning: The SAMME.R algorithm (the default) is deprecated and will be removed in 1.6. Use the SAMME algorithm to circumvent this warning.\n",
      "  warnings.warn(\n",
      "c:\\anaconda3\\envs\\mldl\\lib\\site-packages\\sklearn\\ensemble\\_weight_boosting.py:519: FutureWarning: The SAMME.R algorithm (the default) is deprecated and will be removed in 1.6. Use the SAMME algorithm to circumvent this warning.\n",
      "  warnings.warn(\n",
      "c:\\anaconda3\\envs\\mldl\\lib\\site-packages\\sklearn\\ensemble\\_weight_boosting.py:519: FutureWarning: The SAMME.R algorithm (the default) is deprecated and will be removed in 1.6. Use the SAMME algorithm to circumvent this warning.\n",
      "  warnings.warn(\n",
      "c:\\anaconda3\\envs\\mldl\\lib\\site-packages\\sklearn\\ensemble\\_weight_boosting.py:519: FutureWarning: The SAMME.R algorithm (the default) is deprecated and will be removed in 1.6. Use the SAMME algorithm to circumvent this warning.\n",
      "  warnings.warn(\n",
      "c:\\anaconda3\\envs\\mldl\\lib\\site-packages\\sklearn\\ensemble\\_weight_boosting.py:519: FutureWarning: The SAMME.R algorithm (the default) is deprecated and will be removed in 1.6. Use the SAMME algorithm to circumvent this warning.\n",
      "  warnings.warn(\n"
     ]
    },
    {
     "name": "stdout",
     "output_type": "stream",
     "text": [
      "Subject: ENG_HIGH\n",
      "Accuracy: 0.7933\n",
      "Sensitvity: 0.8196\n",
      "Specificity: 0.7668\n",
      "Kappa: 0.5865\n",
      "AUC: 0.8650 \n",
      "\n"
     ]
    },
    {
     "name": "stderr",
     "output_type": "stream",
     "text": [
      "c:\\anaconda3\\envs\\mldl\\lib\\site-packages\\sklearn\\ensemble\\_weight_boosting.py:519: FutureWarning: The SAMME.R algorithm (the default) is deprecated and will be removed in 1.6. Use the SAMME algorithm to circumvent this warning.\n",
      "  warnings.warn(\n",
      "c:\\anaconda3\\envs\\mldl\\lib\\site-packages\\sklearn\\ensemble\\_weight_boosting.py:519: FutureWarning: The SAMME.R algorithm (the default) is deprecated and will be removed in 1.6. Use the SAMME algorithm to circumvent this warning.\n",
      "  warnings.warn(\n",
      "c:\\anaconda3\\envs\\mldl\\lib\\site-packages\\sklearn\\ensemble\\_weight_boosting.py:519: FutureWarning: The SAMME.R algorithm (the default) is deprecated and will be removed in 1.6. Use the SAMME algorithm to circumvent this warning.\n",
      "  warnings.warn(\n",
      "c:\\anaconda3\\envs\\mldl\\lib\\site-packages\\sklearn\\ensemble\\_weight_boosting.py:519: FutureWarning: The SAMME.R algorithm (the default) is deprecated and will be removed in 1.6. Use the SAMME algorithm to circumvent this warning.\n",
      "  warnings.warn(\n",
      "c:\\anaconda3\\envs\\mldl\\lib\\site-packages\\sklearn\\ensemble\\_weight_boosting.py:519: FutureWarning: The SAMME.R algorithm (the default) is deprecated and will be removed in 1.6. Use the SAMME algorithm to circumvent this warning.\n",
      "  warnings.warn(\n",
      "c:\\anaconda3\\envs\\mldl\\lib\\site-packages\\sklearn\\ensemble\\_weight_boosting.py:519: FutureWarning: The SAMME.R algorithm (the default) is deprecated and will be removed in 1.6. Use the SAMME algorithm to circumvent this warning.\n",
      "  warnings.warn(\n"
     ]
    },
    {
     "name": "stdout",
     "output_type": "stream",
     "text": [
      "Subject: MATH_HIGH\n",
      "Accuracy: 0.8450\n",
      "Sensitvity: 0.8552\n",
      "Specificity: 0.8313\n",
      "Kappa: 0.6845\n",
      "AUC: 0.9129 \n",
      "\n"
     ]
    },
    {
     "name": "stderr",
     "output_type": "stream",
     "text": [
      "c:\\anaconda3\\envs\\mldl\\lib\\site-packages\\sklearn\\ensemble\\_weight_boosting.py:519: FutureWarning: The SAMME.R algorithm (the default) is deprecated and will be removed in 1.6. Use the SAMME algorithm to circumvent this warning.\n",
      "  warnings.warn(\n",
      "c:\\anaconda3\\envs\\mldl\\lib\\site-packages\\sklearn\\ensemble\\_weight_boosting.py:519: FutureWarning: The SAMME.R algorithm (the default) is deprecated and will be removed in 1.6. Use the SAMME algorithm to circumvent this warning.\n",
      "  warnings.warn(\n",
      "c:\\anaconda3\\envs\\mldl\\lib\\site-packages\\sklearn\\ensemble\\_weight_boosting.py:519: FutureWarning: The SAMME.R algorithm (the default) is deprecated and will be removed in 1.6. Use the SAMME algorithm to circumvent this warning.\n",
      "  warnings.warn(\n",
      "c:\\anaconda3\\envs\\mldl\\lib\\site-packages\\sklearn\\ensemble\\_weight_boosting.py:519: FutureWarning: The SAMME.R algorithm (the default) is deprecated and will be removed in 1.6. Use the SAMME algorithm to circumvent this warning.\n",
      "  warnings.warn(\n",
      "c:\\anaconda3\\envs\\mldl\\lib\\site-packages\\sklearn\\ensemble\\_weight_boosting.py:519: FutureWarning: The SAMME.R algorithm (the default) is deprecated and will be removed in 1.6. Use the SAMME algorithm to circumvent this warning.\n",
      "  warnings.warn(\n",
      "c:\\anaconda3\\envs\\mldl\\lib\\site-packages\\sklearn\\ensemble\\_weight_boosting.py:519: FutureWarning: The SAMME.R algorithm (the default) is deprecated and will be removed in 1.6. Use the SAMME algorithm to circumvent this warning.\n",
      "  warnings.warn(\n"
     ]
    },
    {
     "name": "stdout",
     "output_type": "stream",
     "text": [
      "Subject: KOR_HIGH\n",
      "Accuracy: 0.7062\n",
      "Sensitvity: 0.7613\n",
      "Specificity: 0.6378\n",
      "Kappa: 0.4016\n",
      "AUC: 0.7731 \n",
      "\n"
     ]
    },
    {
     "name": "stderr",
     "output_type": "stream",
     "text": [
      "c:\\anaconda3\\envs\\mldl\\lib\\site-packages\\sklearn\\ensemble\\_weight_boosting.py:519: FutureWarning: The SAMME.R algorithm (the default) is deprecated and will be removed in 1.6. Use the SAMME algorithm to circumvent this warning.\n",
      "  warnings.warn(\n",
      "c:\\anaconda3\\envs\\mldl\\lib\\site-packages\\sklearn\\ensemble\\_weight_boosting.py:519: FutureWarning: The SAMME.R algorithm (the default) is deprecated and will be removed in 1.6. Use the SAMME algorithm to circumvent this warning.\n",
      "  warnings.warn(\n",
      "c:\\anaconda3\\envs\\mldl\\lib\\site-packages\\sklearn\\ensemble\\_weight_boosting.py:519: FutureWarning: The SAMME.R algorithm (the default) is deprecated and will be removed in 1.6. Use the SAMME algorithm to circumvent this warning.\n",
      "  warnings.warn(\n",
      "c:\\anaconda3\\envs\\mldl\\lib\\site-packages\\sklearn\\ensemble\\_weight_boosting.py:519: FutureWarning: The SAMME.R algorithm (the default) is deprecated and will be removed in 1.6. Use the SAMME algorithm to circumvent this warning.\n",
      "  warnings.warn(\n",
      "c:\\anaconda3\\envs\\mldl\\lib\\site-packages\\sklearn\\ensemble\\_weight_boosting.py:519: FutureWarning: The SAMME.R algorithm (the default) is deprecated and will be removed in 1.6. Use the SAMME algorithm to circumvent this warning.\n",
      "  warnings.warn(\n",
      "c:\\anaconda3\\envs\\mldl\\lib\\site-packages\\sklearn\\ensemble\\_weight_boosting.py:519: FutureWarning: The SAMME.R algorithm (the default) is deprecated and will be removed in 1.6. Use the SAMME algorithm to circumvent this warning.\n",
      "  warnings.warn(\n"
     ]
    },
    {
     "name": "stdout",
     "output_type": "stream",
     "text": [
      "Subject: ENG_HIGH\n",
      "Accuracy: 0.8337\n",
      "Sensitvity: 0.8178\n",
      "Specificity: 0.8522\n",
      "Kappa: 0.6670\n",
      "AUC: 0.9122 \n",
      "\n"
     ]
    },
    {
     "name": "stderr",
     "output_type": "stream",
     "text": [
      "c:\\anaconda3\\envs\\mldl\\lib\\site-packages\\sklearn\\ensemble\\_weight_boosting.py:519: FutureWarning: The SAMME.R algorithm (the default) is deprecated and will be removed in 1.6. Use the SAMME algorithm to circumvent this warning.\n",
      "  warnings.warn(\n",
      "c:\\anaconda3\\envs\\mldl\\lib\\site-packages\\sklearn\\ensemble\\_weight_boosting.py:519: FutureWarning: The SAMME.R algorithm (the default) is deprecated and will be removed in 1.6. Use the SAMME algorithm to circumvent this warning.\n",
      "  warnings.warn(\n",
      "c:\\anaconda3\\envs\\mldl\\lib\\site-packages\\sklearn\\ensemble\\_weight_boosting.py:519: FutureWarning: The SAMME.R algorithm (the default) is deprecated and will be removed in 1.6. Use the SAMME algorithm to circumvent this warning.\n",
      "  warnings.warn(\n",
      "c:\\anaconda3\\envs\\mldl\\lib\\site-packages\\sklearn\\ensemble\\_weight_boosting.py:519: FutureWarning: The SAMME.R algorithm (the default) is deprecated and will be removed in 1.6. Use the SAMME algorithm to circumvent this warning.\n",
      "  warnings.warn(\n",
      "c:\\anaconda3\\envs\\mldl\\lib\\site-packages\\sklearn\\ensemble\\_weight_boosting.py:519: FutureWarning: The SAMME.R algorithm (the default) is deprecated and will be removed in 1.6. Use the SAMME algorithm to circumvent this warning.\n",
      "  warnings.warn(\n",
      "c:\\anaconda3\\envs\\mldl\\lib\\site-packages\\sklearn\\ensemble\\_weight_boosting.py:519: FutureWarning: The SAMME.R algorithm (the default) is deprecated and will be removed in 1.6. Use the SAMME algorithm to circumvent this warning.\n",
      "  warnings.warn(\n"
     ]
    },
    {
     "name": "stdout",
     "output_type": "stream",
     "text": [
      "Subject: MATH_HIGH\n",
      "Accuracy: 0.8292\n",
      "Sensitvity: 0.8303\n",
      "Specificity: 0.8281\n",
      "Kappa: 0.6583\n",
      "AUC: 0.8970 \n",
      "\n"
     ]
    },
    {
     "name": "stderr",
     "output_type": "stream",
     "text": [
      "c:\\anaconda3\\envs\\mldl\\lib\\site-packages\\sklearn\\ensemble\\_weight_boosting.py:519: FutureWarning: The SAMME.R algorithm (the default) is deprecated and will be removed in 1.6. Use the SAMME algorithm to circumvent this warning.\n",
      "  warnings.warn(\n",
      "c:\\anaconda3\\envs\\mldl\\lib\\site-packages\\sklearn\\ensemble\\_weight_boosting.py:519: FutureWarning: The SAMME.R algorithm (the default) is deprecated and will be removed in 1.6. Use the SAMME algorithm to circumvent this warning.\n",
      "  warnings.warn(\n",
      "c:\\anaconda3\\envs\\mldl\\lib\\site-packages\\sklearn\\ensemble\\_weight_boosting.py:519: FutureWarning: The SAMME.R algorithm (the default) is deprecated and will be removed in 1.6. Use the SAMME algorithm to circumvent this warning.\n",
      "  warnings.warn(\n",
      "c:\\anaconda3\\envs\\mldl\\lib\\site-packages\\sklearn\\ensemble\\_weight_boosting.py:519: FutureWarning: The SAMME.R algorithm (the default) is deprecated and will be removed in 1.6. Use the SAMME algorithm to circumvent this warning.\n",
      "  warnings.warn(\n",
      "c:\\anaconda3\\envs\\mldl\\lib\\site-packages\\sklearn\\ensemble\\_weight_boosting.py:519: FutureWarning: The SAMME.R algorithm (the default) is deprecated and will be removed in 1.6. Use the SAMME algorithm to circumvent this warning.\n",
      "  warnings.warn(\n",
      "c:\\anaconda3\\envs\\mldl\\lib\\site-packages\\sklearn\\ensemble\\_weight_boosting.py:519: FutureWarning: The SAMME.R algorithm (the default) is deprecated and will be removed in 1.6. Use the SAMME algorithm to circumvent this warning.\n",
      "  warnings.warn(\n"
     ]
    },
    {
     "name": "stdout",
     "output_type": "stream",
     "text": [
      "Subject: KOR_HIGH\n",
      "Accuracy: 0.7506\n",
      "Sensitvity: 0.7972\n",
      "Specificity: 0.7033\n",
      "Kappa: 0.5008\n",
      "AUC: 0.8282 \n",
      "\n"
     ]
    },
    {
     "name": "stderr",
     "output_type": "stream",
     "text": [
      "c:\\anaconda3\\envs\\mldl\\lib\\site-packages\\sklearn\\ensemble\\_weight_boosting.py:519: FutureWarning: The SAMME.R algorithm (the default) is deprecated and will be removed in 1.6. Use the SAMME algorithm to circumvent this warning.\n",
      "  warnings.warn(\n",
      "c:\\anaconda3\\envs\\mldl\\lib\\site-packages\\sklearn\\ensemble\\_weight_boosting.py:519: FutureWarning: The SAMME.R algorithm (the default) is deprecated and will be removed in 1.6. Use the SAMME algorithm to circumvent this warning.\n",
      "  warnings.warn(\n",
      "c:\\anaconda3\\envs\\mldl\\lib\\site-packages\\sklearn\\ensemble\\_weight_boosting.py:519: FutureWarning: The SAMME.R algorithm (the default) is deprecated and will be removed in 1.6. Use the SAMME algorithm to circumvent this warning.\n",
      "  warnings.warn(\n",
      "c:\\anaconda3\\envs\\mldl\\lib\\site-packages\\sklearn\\ensemble\\_weight_boosting.py:519: FutureWarning: The SAMME.R algorithm (the default) is deprecated and will be removed in 1.6. Use the SAMME algorithm to circumvent this warning.\n",
      "  warnings.warn(\n",
      "c:\\anaconda3\\envs\\mldl\\lib\\site-packages\\sklearn\\ensemble\\_weight_boosting.py:519: FutureWarning: The SAMME.R algorithm (the default) is deprecated and will be removed in 1.6. Use the SAMME algorithm to circumvent this warning.\n",
      "  warnings.warn(\n",
      "c:\\anaconda3\\envs\\mldl\\lib\\site-packages\\sklearn\\ensemble\\_weight_boosting.py:519: FutureWarning: The SAMME.R algorithm (the default) is deprecated and will be removed in 1.6. Use the SAMME algorithm to circumvent this warning.\n",
      "  warnings.warn(\n"
     ]
    },
    {
     "name": "stdout",
     "output_type": "stream",
     "text": [
      "Subject: ENG_HIGH\n",
      "Accuracy: 0.8171\n",
      "Sensitvity: 0.7778\n",
      "Specificity: 0.8585\n",
      "Kappa: 0.6348\n",
      "AUC: 0.9129 \n",
      "\n"
     ]
    },
    {
     "name": "stderr",
     "output_type": "stream",
     "text": [
      "c:\\anaconda3\\envs\\mldl\\lib\\site-packages\\sklearn\\ensemble\\_weight_boosting.py:519: FutureWarning: The SAMME.R algorithm (the default) is deprecated and will be removed in 1.6. Use the SAMME algorithm to circumvent this warning.\n",
      "  warnings.warn(\n",
      "c:\\anaconda3\\envs\\mldl\\lib\\site-packages\\sklearn\\ensemble\\_weight_boosting.py:519: FutureWarning: The SAMME.R algorithm (the default) is deprecated and will be removed in 1.6. Use the SAMME algorithm to circumvent this warning.\n",
      "  warnings.warn(\n",
      "c:\\anaconda3\\envs\\mldl\\lib\\site-packages\\sklearn\\ensemble\\_weight_boosting.py:519: FutureWarning: The SAMME.R algorithm (the default) is deprecated and will be removed in 1.6. Use the SAMME algorithm to circumvent this warning.\n",
      "  warnings.warn(\n",
      "c:\\anaconda3\\envs\\mldl\\lib\\site-packages\\sklearn\\ensemble\\_weight_boosting.py:519: FutureWarning: The SAMME.R algorithm (the default) is deprecated and will be removed in 1.6. Use the SAMME algorithm to circumvent this warning.\n",
      "  warnings.warn(\n",
      "c:\\anaconda3\\envs\\mldl\\lib\\site-packages\\sklearn\\ensemble\\_weight_boosting.py:519: FutureWarning: The SAMME.R algorithm (the default) is deprecated and will be removed in 1.6. Use the SAMME algorithm to circumvent this warning.\n",
      "  warnings.warn(\n",
      "c:\\anaconda3\\envs\\mldl\\lib\\site-packages\\sklearn\\ensemble\\_weight_boosting.py:519: FutureWarning: The SAMME.R algorithm (the default) is deprecated and will be removed in 1.6. Use the SAMME algorithm to circumvent this warning.\n",
      "  warnings.warn(\n"
     ]
    },
    {
     "name": "stdout",
     "output_type": "stream",
     "text": [
      "Subject: MATH_HIGH\n",
      "Accuracy: 0.8314\n",
      "Sensitvity: 0.7688\n",
      "Specificity: 0.8874\n",
      "Kappa: 0.6598\n",
      "AUC: 0.8942 \n",
      "\n",
      "avg_Accuracy: 0.7893\n",
      "avg_Sensitvity: 0.7992\n",
      "avg_Specificity: 0.7756\n",
      "avg_Kappa: 0.5752\n",
      "avg_AUC: 0.8625 \n",
      "\n"
     ]
    }
   ],
   "source": [
    "n_feature_list = [19, 164, 289, 613, 41, 17, 12, 154, 59]\n",
    "\n",
    "acc_sum = 0\n",
    "sen_sum = 0\n",
    "spe_sum = 0\n",
    "kap_sum = 0\n",
    "auc_sum = 0\n",
    "\n",
    "for grade in grade_list:\n",
    "    for subject, n_feature in zip(subject_list, n_feature_list):\n",
    "        accuracy, sensitivity, specificity, kappa, auc = model_stacking_with_feature_selection(grade, subject, ['svm', 'decision_tree', 'random_forest', 'knn', 'mlp', 'adaboost', 'xgboost'], 7, n_feature)\n",
    "        print(f\"Subject: {subject}\")\n",
    "        print(f\"Accuracy: {accuracy:.4f}\")\n",
    "        print(f\"Sensitvity: {sensitivity:.4f}\")\n",
    "        print(f\"Specificity: {specificity:.4f}\")\n",
    "        print(f\"Kappa: {kappa:.4f}\")\n",
    "        print(f\"AUC: {auc:.4f} \\n\")\n",
    "        acc_sum += accuracy\n",
    "        sen_sum += sensitivity\n",
    "        spe_sum += specificity\n",
    "        kap_sum += kappa\n",
    "        auc_sum += auc\n",
    "\n",
    "print(f\"avg_Accuracy: {acc_sum/9:.4f}\")\n",
    "print(f\"avg_Sensitvity: {sen_sum/9:.4f}\")\n",
    "print(f\"avg_Specificity: {spe_sum/9:.4f}\")\n",
    "print(f\"avg_Kappa: {kap_sum/9:.4f}\")\n",
    "print(f\"avg_AUC: {auc_sum/9:.4f} \\n\")"
   ]
  },
  {
   "cell_type": "code",
   "execution_count": 42,
   "metadata": {},
   "outputs": [
    {
     "name": "stdout",
     "output_type": "stream",
     "text": [
      "Subject: KOR_HIGH\n",
      "Accuracy: 0.6977\n",
      "Sensitvity: 0.7840\n",
      "Specificity: 0.5920\n",
      "Kappa: 0.3810\n",
      "AUC: 0.7618 \n",
      "\n",
      "Subject: ENG_HIGH\n",
      "Accuracy: 0.8010\n",
      "Sensitvity: 0.8093\n",
      "Specificity: 0.7927\n",
      "Kappa: 0.6020\n",
      "AUC: 0.8654 \n",
      "\n",
      "Subject: MATH_HIGH\n",
      "Accuracy: 0.8450\n",
      "Sensitvity: 0.8552\n",
      "Specificity: 0.8313\n",
      "Kappa: 0.6845\n",
      "AUC: 0.9070 \n",
      "\n",
      "Subject: KOR_HIGH\n",
      "Accuracy: 0.6902\n",
      "Sensitvity: 0.7449\n",
      "Specificity: 0.6224\n",
      "Kappa: 0.3695\n",
      "AUC: 0.7735 \n",
      "\n",
      "Subject: ENG_HIGH\n",
      "Accuracy: 0.8383\n",
      "Sensitvity: 0.8093\n",
      "Specificity: 0.8719\n",
      "Kappa: 0.6768\n",
      "AUC: 0.9093 \n",
      "\n",
      "Subject: MATH_HIGH\n",
      "Accuracy: 0.8223\n",
      "Sensitvity: 0.8303\n",
      "Specificity: 0.8145\n",
      "Kappa: 0.6447\n",
      "AUC: 0.8937 \n",
      "\n",
      "Subject: KOR_HIGH\n",
      "Accuracy: 0.7482\n",
      "Sensitvity: 0.7925\n",
      "Specificity: 0.7033\n",
      "Kappa: 0.4961\n",
      "AUC: 0.8275 \n",
      "\n",
      "Subject: ENG_HIGH\n",
      "Accuracy: 0.8195\n",
      "Sensitvity: 0.7731\n",
      "Specificity: 0.8683\n",
      "Kappa: 0.6397\n",
      "AUC: 0.9106 \n",
      "\n",
      "Subject: MATH_HIGH\n",
      "Accuracy: 0.8361\n",
      "Sensitvity: 0.7588\n",
      "Specificity: 0.9054\n",
      "Kappa: 0.6689\n",
      "AUC: 0.8922 \n",
      "\n",
      "avg_Accuracy: 0.7887\n",
      "avg_Sensitvity: 0.7953\n",
      "avg_Specificity: 0.7780\n",
      "avg_Kappa: 0.5737\n",
      "avg_AUC: 0.8601 \n",
      "\n"
     ]
    }
   ],
   "source": [
    "n_feature_list = [19, 164, 289, 613, 41, 17, 12, 154, 59]\n",
    "\n",
    "acc_sum = 0\n",
    "sen_sum = 0\n",
    "spe_sum = 0\n",
    "kap_sum = 0\n",
    "auc_sum = 0\n",
    "\n",
    "for grade in grade_list:\n",
    "    for subject, n_feature in zip(subject_list, n_feature_list):\n",
    "        accuracy, sensitivity, specificity, kappa, auc = model_stacking_with_feature_selection(grade, subject, ['svm', 'decision_tree', 'random_forest', 'knn', 'mlp'], 5, n_feature)\n",
    "        print(f\"Subject: {subject}\")\n",
    "        print(f\"Accuracy: {accuracy:.4f}\")\n",
    "        print(f\"Sensitvity: {sensitivity:.4f}\")\n",
    "        print(f\"Specificity: {specificity:.4f}\")\n",
    "        print(f\"Kappa: {kappa:.4f}\")\n",
    "        print(f\"AUC: {auc:.4f} \\n\")\n",
    "        acc_sum += accuracy\n",
    "        sen_sum += sensitivity\n",
    "        spe_sum += specificity\n",
    "        kap_sum += kappa\n",
    "        auc_sum += auc\n",
    "\n",
    "print(f\"avg_Accuracy: {acc_sum/9:.4f}\")\n",
    "print(f\"avg_Sensitvity: {sen_sum/9:.4f}\")\n",
    "print(f\"avg_Specificity: {spe_sum/9:.4f}\")\n",
    "print(f\"avg_Kappa: {kap_sum/9:.4f}\")\n",
    "print(f\"avg_AUC: {auc_sum/9:.4f} \\n\")"
   ]
  },
  {
   "cell_type": "code",
   "execution_count": null,
   "metadata": {},
   "outputs": [],
   "source": []
  }
 ],
 "metadata": {
  "kernelspec": {
   "display_name": "mldl",
   "language": "python",
   "name": "python3"
  },
  "language_info": {
   "codemirror_mode": {
    "name": "ipython",
    "version": 3
   },
   "file_extension": ".py",
   "mimetype": "text/x-python",
   "name": "python",
   "nbconvert_exporter": "python",
   "pygments_lexer": "ipython3",
   "version": "3.10.14"
  }
 },
 "nbformat": 4,
 "nbformat_minor": 2
}
