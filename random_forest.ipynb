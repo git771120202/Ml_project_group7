{
  "nbformat": 4,
  "nbformat_minor": 0,
  "metadata": {
    "colab": {
      "provenance": []
    },
    "kernelspec": {
      "name": "python3",
      "display_name": "Python 3"
    },
    "language_info": {
      "name": "python"
    }
  },
  "cells": [
    {
      "cell_type": "code",
      "execution_count": null,
      "metadata": {
        "colab": {
          "base_uri": "https://localhost:8080/"
        },
        "id": "Btl2Nm1OFunX",
        "outputId": "c9655b8f-6cfc-4e44-8382-0a5accff5b2c"
      },
      "outputs": [
        {
          "output_type": "stream",
          "name": "stdout",
          "text": [
            "      ST0  ST14  ST15  ST1_1  ST1_2  ST2_3  ST2_4  ST2_5  ST2_6  ST3  ...  \\\n",
            "0       1  48.0     0      2      4      4      3      4      0    1  ...   \n",
            "1       1  45.0     1      2      4      1      1      3      3    2  ...   \n",
            "2       1  48.0     4      1      2      0      8      1      2    2  ...   \n",
            "3       0  44.0     2      2      5      4      1      3      0    2  ...   \n",
            "4       0  50.0     0      2      3      0      4      3      4    2  ...   \n",
            "...   ...   ...   ...    ...    ...    ...    ...    ...    ...  ...  ...   \n",
            "1927    1  55.0     4      2      3      1      8      3      4    1  ...   \n",
            "1928    1  35.0     4      2      3      3      8      4      5    0  ...   \n",
            "1929    1  62.0     0      2      2      1      3      3      1    2  ...   \n",
            "1930    1  43.0     0      2      3      2      3      4      8    3  ...   \n",
            "1931    1  50.0     4      3      3      3      0      8      3    0  ...   \n",
            "\n",
            "      DB7_5  DB7_6  DB7_7  DB7_8  KOR_S  ENG_S  MATH_S  KOR_HIGH  ENG_HIGH  \\\n",
            "0       3.0   49.0    3.0   63.0   50.0   53.0    56.0         0         0   \n",
            "1       3.0   49.0    3.0   63.0   92.5   96.5    89.0         1         1   \n",
            "2       3.0   49.0    3.0   63.0   90.0   77.0    60.0         1         1   \n",
            "3       3.0   49.0    3.0   63.0   65.0   96.0   100.0         0         1   \n",
            "4       3.0   49.0    3.0   63.0   77.5   81.5    90.0         1         1   \n",
            "...     ...    ...    ...    ...    ...    ...     ...       ...       ...   \n",
            "1927    0.0    0.0    4.0  187.0   74.0   67.5    78.0         1         1   \n",
            "1928    0.0    0.0    4.0  187.0   70.5   71.0    78.0         1         1   \n",
            "1929    0.0    0.0    4.0  187.0   67.5   85.5   100.0         1         1   \n",
            "1930    0.0    0.0    4.0  187.0   70.5   25.0    15.0         1         0   \n",
            "1931    0.0    0.0    4.0  187.0   25.5   17.5    18.0         0         0   \n",
            "\n",
            "      MATH_HIGH  \n",
            "0             0  \n",
            "1             1  \n",
            "2             0  \n",
            "3             1  \n",
            "4             1  \n",
            "...         ...  \n",
            "1927          1  \n",
            "1928          1  \n",
            "1929          1  \n",
            "1930          0  \n",
            "1931          0  \n",
            "\n",
            "[1932 rows x 648 columns]\n"
          ]
        }
      ],
      "source": [
        "import pandas as pd\n",
        "\n",
        "csv_file = 'dataset/preprocessed/data_grade1.csv'\n",
        "df1 = pd.read_csv(csv_file)\n",
        "df1 = df1.drop(columns=['STUID'])\n",
        "print(df1)"
      ]
    },
    {
      "cell_type": "code",
      "source": [
        "csv_file2 = 'dataset/preprocessed/data_grade2.csv'\n",
        "df2 = pd.read_csv(csv_file2)\n",
        "df2 = df2.drop(columns=['STUID'])\n",
        "print(df2)"
      ],
      "metadata": {
        "colab": {
          "base_uri": "https://localhost:8080/"
        },
        "id": "7ucvDIvRGMwu",
        "outputId": "2d05f11e-87d4-4610-84c4-d079cf6be04e"
      },
      "execution_count": null,
      "outputs": [
        {
          "output_type": "stream",
          "name": "stdout",
          "text": [
            "      ST_PREV_KOR_S  ST_PREV_ENG_S  ST_PREV_MATH_S  ST0   ST14  ST15  ST1_1  \\\n",
            "0              30.5           39.0            26.0    1  157.0  43.0      3   \n",
            "1              51.5           61.0            26.0    1  165.0  58.0      4   \n",
            "2              79.0           81.5            94.0    1  161.0  45.0      4   \n",
            "3              90.0           77.0            60.0    1  158.0  52.0      2   \n",
            "4              65.0           96.0           100.0    0  170.0  46.5      2   \n",
            "...             ...            ...             ...  ...    ...   ...    ...   \n",
            "2190           52.5           18.5            33.0    1  160.0  56.0      4   \n",
            "2191           74.0           67.5            78.0    1  165.0  60.0      2   \n",
            "2192           70.5           71.0            78.0    1  156.0  43.0      4   \n",
            "2193           67.5           85.5           100.0    1  165.0  65.0      2   \n",
            "2194           70.5           25.0            15.0    1  154.0  45.0      3   \n",
            "\n",
            "      ST1_2  ST2_3  ST2_4  ...  DB7_5  DB7_6  DB7_7  DB7_8  KOR_S  ENG_S  \\\n",
            "0         2      7      6  ...    5.0   31.0   17.0  163.0   65.0   25.0   \n",
            "1         5      8      4  ...    7.0   68.0    7.0  109.0   15.0   50.0   \n",
            "2         4      1      8  ...    1.0   11.0    5.0   65.0   73.0   93.0   \n",
            "3         3      8      5  ...    3.0   49.0    3.0   63.0   68.0   86.0   \n",
            "4         4      4      4  ...    3.0   49.0    3.0   63.0   69.0   85.5   \n",
            "...     ...    ...    ...  ...    ...    ...    ...    ...    ...    ...   \n",
            "2190      3      3      4  ...    0.0    0.0    4.0  187.0   24.0   24.5   \n",
            "2191      4      1      8  ...    0.0    0.0    2.0  113.0   65.0   60.5   \n",
            "2192      4      4      8  ...    0.0    0.0    4.0  187.0   50.0   56.5   \n",
            "2193      1      4      3  ...    0.0    0.0    4.0  187.0   14.0   43.0   \n",
            "2194      3      6      8  ...    0.0    0.0    4.0  187.0   85.0   18.0   \n",
            "\n",
            "      MATH_S  KOR_HIGH  ENG_HIGH  MATH_HIGH  \n",
            "0       41.0         1         0          0  \n",
            "1       39.0         0         0          0  \n",
            "2      100.0         1         1          1  \n",
            "3       65.0         1         1          1  \n",
            "4       91.0         1         1          1  \n",
            "...      ...       ...       ...        ...  \n",
            "2190    25.0         0         0          0  \n",
            "2191    74.0         1         0          1  \n",
            "2192    89.0         0         0          1  \n",
            "2193    71.0         0         0          1  \n",
            "2194    31.0         1         0          0  \n",
            "\n",
            "[2195 rows x 651 columns]\n"
          ]
        }
      ]
    },
    {
      "cell_type": "code",
      "source": [
        "csv_file3 = 'dataset/preprocessed/data_grade3.csv'\n",
        "df3 = pd.read_csv(csv_file3)\n",
        "df3 = df3.drop(columns=['STUID'])\n",
        "print(df3)"
      ],
      "metadata": {
        "colab": {
          "base_uri": "https://localhost:8080/"
        },
        "id": "Q8xzHQsgGFLh",
        "outputId": "16eb1a86-1a8c-44c1-801a-ce1442cfe794"
      },
      "execution_count": null,
      "outputs": [
        {
          "output_type": "stream",
          "name": "stdout",
          "text": [
            "      ST_PREV_KOR_S  ST_PREV_ENG_S  ST_PREV_MATH_S  ST0   ST14  ST15  ST1_1  \\\n",
            "0              65.0           25.0            41.0    1  157.0  47.0      3   \n",
            "1              44.0           50.0            33.0    1  153.0  70.0      4   \n",
            "2              73.0           93.0           100.0    1  161.1  45.0      4   \n",
            "3              92.0          100.0            96.0    1  157.0  47.0      2   \n",
            "4              68.0           86.0            65.0    1  158.1  55.0      2   \n",
            "...             ...            ...             ...  ...    ...   ...    ...   \n",
            "2100           41.0           74.0            20.0    1  155.0  75.0      2   \n",
            "2101           71.0           92.0            96.0    0  168.0  54.0      2   \n",
            "2102           68.0          100.0            77.0    1  158.0  54.0      3   \n",
            "2103           24.0           24.5            25.0    1  160.0  50.0      2   \n",
            "2104            0.0           18.0             5.0    0  163.0  50.0      3   \n",
            "\n",
            "      ST1_2  ST2_3  ST2_4  ...  DB7_5  DB7_6  DB7_7  DB7_8  KOR_S  ENG_S  \\\n",
            "0         4      6      2  ...    3.0   25.0   18.0  178.0   42.5   43.0   \n",
            "1         2      3      0  ...    3.0   25.0   18.0  178.0   50.0   33.0   \n",
            "2         4      2      8  ...    2.0   22.0    6.0   83.0   65.0   65.0   \n",
            "3         4      0      4  ...    1.0   20.0    2.0   32.0   90.0   96.0   \n",
            "4         3      1      7  ...    1.0   20.0    2.0   32.0   52.5   69.0   \n",
            "...     ...    ...    ...  ...    ...    ...    ...    ...    ...    ...   \n",
            "2100      1      2      0  ...    6.0   71.0    4.0  148.0   37.5   59.0   \n",
            "2101      3      5      4  ...    6.0   71.0    4.0  148.0   52.5   93.0   \n",
            "2102      4      3      3  ...    6.0   71.0    4.0  148.0   45.0   43.0   \n",
            "2103      2      0      0  ...    6.0   71.0    4.0  148.0   22.5    4.0   \n",
            "2104      2      3      5  ...    6.0   71.0    4.0  148.0    0.0   22.0   \n",
            "\n",
            "      MATH_S  KOR_HIGH  ENG_HIGH  MATH_HIGH  \n",
            "0       21.0         0         0          0  \n",
            "1       35.0         0         0          0  \n",
            "2       48.0         1         1          0  \n",
            "3       89.0         1         1          1  \n",
            "4       23.0         0         1          0  \n",
            "...      ...       ...       ...        ...  \n",
            "2100    20.0         0         0          0  \n",
            "2101    53.0         0         1          1  \n",
            "2102     9.0         0         0          0  \n",
            "2103    39.0         0         0          0  \n",
            "2104    21.0         0         0          0  \n",
            "\n",
            "[2105 rows x 651 columns]\n"
          ]
        }
      ]
    },
    {
      "cell_type": "code",
      "source": [
        "from sklearn.model_selection import train_test_split\n",
        "from sklearn.metrics import accuracy_score, roc_auc_score, cohen_kappa_score, confusion_matrix\n",
        "\n",
        "# 예측 함수 정의\n",
        "def model_predict(model, df, subject):\n",
        "\n",
        "    # 과목별 학업성취도 (0,1) 변수를 예측 변수 y로 지정\n",
        "    y = df[subject]\n",
        "    # 과목별 원점수 및 학업성취도(0,1) 변수 제거 후 나머지 변수 모두 예측을 위한 변수 x값으로 지정\n",
        "    X = df.drop(columns=['KOR_HIGH', 'ENG_HIGH', 'MATH_HIGH', 'KOR_S', 'ENG_S', 'MATH_S'])\n",
        "\n",
        "    # train_test_split\n",
        "    X_train, X_test, y_train, y_test = train_test_split(X, y, test_size=0.2, random_state=42)\n",
        "\n",
        "    # 모델 학습\n",
        "    model.fit(X_train, y_train)\n",
        "\n",
        "    # 모델 예측\n",
        "    y_pred = model.predict(X_test)\n",
        "    y_pred_proba = model.predict_proba(X_test)[:, 1]\n",
        "\n",
        "    tn, fp, fn, tp = confusion_matrix(y_test, y_pred).ravel()\n",
        "\n",
        "    # 평가지표\n",
        "    accuracy = accuracy_score(y_test, y_pred)\n",
        "    sensitivity = tp / (tp + fn)\n",
        "    specificity = tn / (tn + fp)\n",
        "    kappa = cohen_kappa_score(y_test, y_pred)\n",
        "    auc = roc_auc_score(y_test, y_pred_proba)\n",
        "\n",
        "    return accuracy, sensitivity, specificity, kappa, auc"
      ],
      "metadata": {
        "id": "GcVemJTjGOwW"
      },
      "execution_count": null,
      "outputs": []
    },
    {
      "cell_type": "code",
      "source": [
        "from sklearn.ensemble import RandomForestClassifier\n",
        "\n",
        "random_forest_model = RandomForestClassifier(random_state=42)\n",
        "grade_list = [df1, df2, df3]\n",
        "subject_list = ['KOR_HIGH', 'ENG_HIGH', 'MATH_HIGH']\n",
        "subject_name = ['국어 과목', '영어 과목', '수학 과목']\n",
        "\n",
        "# 랜덤포레스트 수행\n",
        "print(\"RANDOM FOREST RESULT\")\n",
        "\n",
        "grade_count = 0\n",
        "subject_count = 0\n",
        "\n",
        "# 1,2,3 학년별로 출력\n",
        "for grade in grade_list:\n",
        "    print('학년 : ', grade_count+1)\n",
        "    subject_count = 0\n",
        "    # 과목별로\n",
        "    for subject in subject_list:\n",
        "        # 5가지 점수 계산, model_predict()에 첫번째 변수에 모델명 수정시 해당 모델로 계산 진행됨\n",
        "        accuracy, sensitivity, specificity, kappa, auc = model_predict(random_forest_model, grade, subject)\n",
        "        print(f\"Subject Name: {subject_name[subject_count]}\")\n",
        "        print(f\"Accuracy: {accuracy:.4f}\")\n",
        "        print(f\"Sensitvity: {sensitivity:.4f}\")\n",
        "        print(f\"Specificity: {specificity:.4f}\")\n",
        "        print(f\"Kappa: {kappa:.4f}\")\n",
        "        print(f\"AUC: {auc:.4f} \\n\")\n",
        "        subject_count = subject_count + 1\n",
        "    grade_count = grade_count+1"
      ],
      "metadata": {
        "colab": {
          "base_uri": "https://localhost:8080/"
        },
        "id": "nc9Tqo2kGOyn",
        "outputId": "6d99a3d8-133e-43ab-80cf-d96b1a4f1c9d"
      },
      "execution_count": null,
      "outputs": [
        {
          "output_type": "stream",
          "name": "stdout",
          "text": [
            "RANDOM FOREST RESULT\n",
            "학년 :  1\n",
            "Subject Name: 국어 과목\n",
            "Accuracy: 0.6563\n",
            "Sensitvity: 0.7418\n",
            "Specificity: 0.5517\n",
            "Kappa: 0.2971\n",
            "AUC: 0.7068 \n",
            "\n",
            "Subject Name: 영어 과목\n",
            "Accuracy: 0.7829\n",
            "Sensitvity: 0.7887\n",
            "Specificity: 0.7772\n",
            "Kappa: 0.5659\n",
            "AUC: 0.8563 \n",
            "\n",
            "Subject Name: 수학 과목\n",
            "Accuracy: 0.8165\n",
            "Sensitvity: 0.8597\n",
            "Specificity: 0.7590\n",
            "Kappa: 0.6230\n",
            "AUC: 0.8836 \n",
            "\n",
            "학년 :  2\n",
            "Subject Name: 국어 과목\n",
            "Accuracy: 0.7062\n",
            "Sensitvity: 0.7860\n",
            "Specificity: 0.6071\n",
            "Kappa: 0.3981\n",
            "AUC: 0.7638 \n",
            "\n",
            "Subject Name: 영어 과목\n",
            "Accuracy: 0.8337\n",
            "Sensitvity: 0.8093\n",
            "Specificity: 0.8621\n",
            "Kappa: 0.6675\n",
            "AUC: 0.8974 \n",
            "\n",
            "Subject Name: 수학 과목\n",
            "Accuracy: 0.8109\n",
            "Sensitvity: 0.7798\n",
            "Specificity: 0.8416\n",
            "Kappa: 0.6217\n",
            "AUC: 0.8749 \n",
            "\n",
            "학년 :  3\n",
            "Subject Name: 국어 과목\n",
            "Accuracy: 0.7173\n",
            "Sensitvity: 0.7736\n",
            "Specificity: 0.6603\n",
            "Kappa: 0.4342\n",
            "AUC: 0.8036 \n",
            "\n",
            "Subject Name: 영어 과목\n",
            "Accuracy: 0.8195\n",
            "Sensitvity: 0.7731\n",
            "Specificity: 0.8683\n",
            "Kappa: 0.6397\n",
            "AUC: 0.8966 \n",
            "\n",
            "Subject Name: 수학 과목\n",
            "Accuracy: 0.8100\n",
            "Sensitvity: 0.6935\n",
            "Specificity: 0.9144\n",
            "Kappa: 0.6146\n",
            "AUC: 0.8753 \n",
            "\n"
          ]
        }
      ]
    }
  ]
}